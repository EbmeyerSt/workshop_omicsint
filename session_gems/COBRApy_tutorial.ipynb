{
 "cells": [
  {
   "cell_type": "markdown",
   "metadata": {},
   "source": [
    "# GEM Tutorial with COBRApy\n",
    "\n",
    "This exercise will walk through some of the basic operations in working with a genome-scale metabolic model (GEM). The vast majority of software that has been developed surrounding GEMs has been done in MATLAB, likely because this form of modeling has origins in engineering (specifically chemical engineering). Although well-suited for metabolic modeling, MATLAB is not open-source and therefore limits the accessibility of such software. Fortunately, the modeling community has implemented the MATLAB COnstrant-Based Reconstruction and Analysis [(COBRA) Toolbox](https://opencobra.github.io/cobratoolbox/stable/) in Python, as [**COBRApy**](https://opencobra.github.io/cobrapy/).\n",
    "\n",
    "**COBRApy** is still relatively new and therefore lacks some of the functionality of its MATLAB counterparts, but the core utilities are available and quickly expanding. Here, we will demonstrate some of the basic functions and classes of the **COBRApy** package, which should also familiarize the user with the fundamentals of GEM structure and simulation.\n",
    "\n",
    "Most of the commands and material covered in this tutorial can be found in the [**COBRApy Documentation**](https://cobrapy.readthedocs.io/en/stable/), so we encourage you to reference the documentation if you encounter errors, warnings, or need further detail about something. You can of course always ask us for help too :)"
   ]
  },
  {
   "cell_type": "code",
   "execution_count": null,
   "metadata": {},
   "outputs": [],
   "source": [
    "import cobra\n",
    "import cobra.test\n",
    "import os"
   ]
  },
  {
   "cell_type": "markdown",
   "metadata": {},
   "source": [
    "## View the global configuration object\n",
    "\n",
    "Before jumping right into things, it is always nice to see what sort of default settings are in place. **COBRApy** has organized such defaults into a **global configuration object**, which can be viewed or adjusted as needed."
   ]
  },
  {
   "cell_type": "code",
   "execution_count": null,
   "metadata": {},
   "outputs": [],
   "source": [
    "cobra_config = cobra.Configuration()"
   ]
  },
  {
   "cell_type": "code",
   "execution_count": null,
   "metadata": {},
   "outputs": [],
   "source": [
    "# view a brief summary of the object\n",
    "cobra_config"
   ]
  },
  {
   "cell_type": "code",
   "execution_count": null,
   "metadata": {},
   "outputs": [],
   "source": [
    "# view the default reaction flux bounds (min, max)\n",
    "cobra_config.bounds"
   ]
  },
  {
   "cell_type": "markdown",
   "metadata": {},
   "source": [
    "## Import and inspect a small test model\n",
    "\n",
    "GEMs, as their name implies (\"_genome_\"-scale), are often quite large, containing thousands of reactions, metabolites, and genes. It is therefore best to begin working with a simplified model that is quick to load and use, and easy to conceptualize.\n",
    "\n",
    "For this exercise, we will use the `textbook` model that is provided with the **COBRApy** package. This model encompasses the core pathways of central carbon metabolism in the _E. coli_ bacterium."
   ]
  },
  {
   "cell_type": "code",
   "execution_count": null,
   "metadata": {},
   "outputs": [],
   "source": [
    "# the cobra package ships with several test models in different formats\n",
    "data_dir = cobra.test.data_dir\n",
    "os.listdir(data_dir)[:10]"
   ]
  },
  {
   "cell_type": "code",
   "execution_count": null,
   "metadata": {},
   "outputs": [],
   "source": [
    "# load the \"textbook\" model from the SBML (.xml) file\n",
    "model = cobra.io.read_sbml_model(os.path.join(data_dir, \"textbook.xml.gz\"))\n",
    "model"
   ]
  },
  {
   "cell_type": "markdown",
   "metadata": {},
   "source": [
    "**Note:** SBML ([Systems Biology Markup Language](http://sbml.org/Main_Page)) is an XML-based format commonly used to store GEMs. The aim of SBML is to serve as an open and standardized format to facilitate sharing of models and software. Feel free to open the `textbook.xml` file in a text editor to get an idea of how it is formatted."
   ]
  },
  {
   "cell_type": "code",
   "execution_count": null,
   "metadata": {},
   "outputs": [],
   "source": [
    "# list the first few reactions in the model, with their reaction equations\n",
    "for x in model.reactions[:10]:\n",
    "    print(\"%s : %s\" % (x.id, x.reaction))"
   ]
  },
  {
   "cell_type": "code",
   "execution_count": null,
   "metadata": {},
   "outputs": [],
   "source": [
    "# inspect a reaction (e.g., AKGDH) in more detail\n",
    "model.reactions.AKGDH"
   ]
  },
  {
   "cell_type": "markdown",
   "metadata": {},
   "source": [
    "Here we can see some of the reaction-associated information that is stored in the model. The `Reaction identifier` must be a unique string, and is typically a short abbreviation or code since there is also a more descriptive `Name` field.\n",
    "\n",
    "**Question:** Is this reaction irreversible or reversible? From what field(s) can this be determined?\n",
    "\n",
    "**Question:** Based on the gene-protein rule (GPR), is the reaction catalyzed by *isozymes* or an *enzyme complex*?"
   ]
  },
  {
   "cell_type": "code",
   "execution_count": null,
   "metadata": {},
   "outputs": [],
   "source": [
    "# list the first few metabolites in the model, along with their chemical formula\n",
    "for x in model.metabolites[:10]:\n",
    "    print(\"%s : %s\" % (x.id, x.formula))"
   ]
  },
  {
   "cell_type": "code",
   "execution_count": null,
   "metadata": {},
   "outputs": [],
   "source": [
    "# inspect the 3pg_e metabolite in more detail\n",
    "model.metabolites.get_by_id('3pg_c')"
   ]
  },
  {
   "cell_type": "markdown",
   "metadata": {},
   "source": [
    "Note that we cannot reference the metabolite using `model.metabolites.3pg_c` because the metabolite ID begins with a number, which python doesn't like.\n",
    "\n",
    "We can see the abbreviation of the compartment in which the metabolite exists, though `c` by itself is not super informative.\n",
    "\n",
    "**Question:** What is the name of the `c` compartment, and what other compartments does the model have?"
   ]
  },
  {
   "cell_type": "code",
   "execution_count": null,
   "metadata": {},
   "outputs": [],
   "source": []
  },
  {
   "cell_type": "markdown",
   "metadata": {},
   "source": [
    "## Add a new reaction to the model\n",
    "\n",
    "GEMs are never really \"finished\" because we continue to find errors or missing content, new reactions/genes/metabolites are discovered, etc. It is therefore common for a user to need to add or remove content from the GEM.\n",
    "\n",
    "For this example, we will add the [aspartate aminotransferase reaction](https://ecocyc.org/ECOLI/NEW-IMAGE?type=REACTION&object=ASPAMINOTRANS-RXN) to enable the synthesis of aspartate:\n",
    "\n",
    "`L-glutamate + oxaloacetate <==> 2-oxoglutarate + L-aspartate`"
   ]
  },
  {
   "cell_type": "markdown",
   "metadata": {},
   "source": [
    "### Create and edit the reaction object"
   ]
  },
  {
   "cell_type": "code",
   "execution_count": null,
   "metadata": {},
   "outputs": [],
   "source": [
    "# create a template reaction and determine what information we need to provide\n",
    "reaction = cobra.Reaction('ASPAMTR')\n",
    "reaction"
   ]
  },
  {
   "cell_type": "code",
   "execution_count": null,
   "metadata": {},
   "outputs": [],
   "source": [
    "# add the reaction name\n",
    "reaction.name = 'aspartate aminotransferase'"
   ]
  },
  {
   "cell_type": "code",
   "execution_count": null,
   "metadata": {},
   "outputs": [],
   "source": [
    "# we need to find the IDs of the metabolites involved in the reaction\n",
    "met_patterns = ['glutamate', 'oxaloacetate', 'oxoglutarate', 'aspartate']\n",
    "\n",
    "for met in model.metabolites:\n",
    "    if any([x in met.name.lower() for x in met_patterns]):\n",
    "        print(\"%s : %s\" % (met.id, met.name))"
   ]
  },
  {
   "cell_type": "markdown",
   "metadata": {},
   "source": [
    "Two interesting observations:\n",
    "1. There are two instances of `2-Oxoglutarate` and `L-Glutamate`\n",
    "2. Aspartate is not yet in the model\n",
    "\n",
    "For the first point, note that the `_c` and `_e` suffixes represent the compartment to which the metabolite belongs. Note that not all GEMs append the compartment information to the metabolite IDs, but it is quite common."
   ]
  },
  {
   "cell_type": "code",
   "execution_count": null,
   "metadata": {},
   "outputs": [],
   "source": [
    "# view model compartments\n",
    "model.compartments"
   ]
  },
  {
   "cell_type": "markdown",
   "metadata": {},
   "source": [
    "We want to add our reaction to the cytosol (`c`) compartment, so we will use the `_c` form of the metabolites.\n",
    "\n",
    "For the second point, we will need to add aspartate to the model."
   ]
  },
  {
   "cell_type": "markdown",
   "metadata": {},
   "source": [
    "### Create a new metabolite object"
   ]
  },
  {
   "cell_type": "code",
   "execution_count": null,
   "metadata": {},
   "outputs": [],
   "source": [
    "# create the aspartate metabolite\n",
    "asp_c = cobra.Metabolite('asp_c')\n",
    "asp_c  # view its (missing) properties"
   ]
  },
  {
   "cell_type": "code",
   "execution_count": null,
   "metadata": {},
   "outputs": [],
   "source": [
    "# fill in some information about the new aspartate metabolite\n",
    "asp_c.name = 'L-Aspartate'\n",
    "asp_c.formula = 'C4H6NO4'\n",
    "asp_c.compartment='c'"
   ]
  },
  {
   "cell_type": "code",
   "execution_count": null,
   "metadata": {},
   "outputs": [],
   "source": [
    "# now we can add the metabolites and their stoichiometric coefficients to the new reaction\n",
    "reaction.add_metabolites({\n",
    "    model.metabolites.glu__L_c: -1.0,\n",
    "    model.metabolites.oaa_c: -1.0,\n",
    "    model.metabolites.akg_c: 1.0,\n",
    "    asp_c: 1.0\n",
    "})"
   ]
  },
  {
   "cell_type": "code",
   "execution_count": null,
   "metadata": {},
   "outputs": [],
   "source": [
    "# view the reaction details to verify that everything looks correct\n",
    "reaction"
   ]
  },
  {
   "cell_type": "code",
   "execution_count": null,
   "metadata": {},
   "outputs": [],
   "source": [
    "# view the reversibility of the reaction (should be reversible)\n",
    "reaction.reversibility"
   ]
  },
  {
   "cell_type": "code",
   "execution_count": null,
   "metadata": {},
   "outputs": [],
   "source": [
    "reaction.reversibility = True  # note that we cannot directly edit the \"reversibility\" field"
   ]
  },
  {
   "cell_type": "code",
   "execution_count": null,
   "metadata": {},
   "outputs": [],
   "source": [
    "# instead we need to change the lower bound of the reaction\n",
    "reaction.lower_bound = -1000\n",
    "reaction.reversibility  # verify that the reversibilty has been updated"
   ]
  },
  {
   "cell_type": "code",
   "execution_count": null,
   "metadata": {},
   "outputs": [],
   "source": [
    "# note that the equation now shows the double-sided arrow \"<=>\" instead of \"-->\"\n",
    "reaction"
   ]
  },
  {
   "cell_type": "markdown",
   "metadata": {},
   "source": [
    "### Add a gene-protein-reaction (GPR) rule to the reaction\n",
    "\n",
    "The reaction will still function even if it doesn't have a GPR (GEMs contain many non-enzymatic reactions, after all), but this information is important to include since it can affect some analyses, such as gene deletion analysis or reporter metabolite analysis."
   ]
  },
  {
   "cell_type": "code",
   "execution_count": null,
   "metadata": {},
   "outputs": [],
   "source": [
    "# aspartate aminotrasferase is encoded by aspC (b0928) in E. coli\n",
    "reaction.gene_reaction_rule = 'b0928'\n",
    "reaction"
   ]
  },
  {
   "cell_type": "code",
   "execution_count": null,
   "metadata": {},
   "outputs": [],
   "source": [
    "# gene(s) in the GPR rule are automatically added to the \"genes\" field of the reaction object\n",
    "reaction.genes"
   ]
  },
  {
   "cell_type": "markdown",
   "metadata": {},
   "source": [
    "### Add the reaction to the model"
   ]
  },
  {
   "cell_type": "code",
   "execution_count": null,
   "metadata": {},
   "outputs": [],
   "source": [
    "# add the reaction (input as a list) to the model\n",
    "model.add_reactions([reaction])"
   ]
  },
  {
   "cell_type": "code",
   "execution_count": null,
   "metadata": {},
   "outputs": [],
   "source": [
    "# verify that the new reaction, metabolite, and gene are now in the model\n",
    "model.reactions.ASPAMTR"
   ]
  },
  {
   "cell_type": "code",
   "execution_count": null,
   "metadata": {},
   "outputs": [],
   "source": [
    "model.metabolites.asp_c"
   ]
  },
  {
   "cell_type": "code",
   "execution_count": null,
   "metadata": {},
   "outputs": [],
   "source": [
    "model.genes.b0928.name = 'aspC'  # we can also provide the gene name\n",
    "model.genes.b0928"
   ]
  },
  {
   "cell_type": "code",
   "execution_count": null,
   "metadata": {},
   "outputs": [],
   "source": []
  },
  {
   "cell_type": "markdown",
   "metadata": {},
   "source": [
    "## Flux balance analysis (FBA)\n",
    "\n",
    "FBA is one of the most common and fundamental GEM-based analyses. It involves an optimization to estimate the flux (metabolite flow) through each reaction in the model, given the following constraints:\n",
    "\n",
    "1. The system is at steady state - each metabolite must be consumed and produced at the same rate (represented by the equation **S**•**v** = **0**).\n",
    "\n",
    "2. Reaction fluxes must be within their defined lower and upper bounds (`lb` and `ub`, respectively).\n",
    "\n",
    "The optimization will seek to minimize or maximize some objective defined by the user. Most often the objective is to maximize the flux through a \"biomass\" reaction, which represents an organism trying to allocate its resources such that it maximizes its growth rate."
   ]
  },
  {
   "cell_type": "markdown",
   "metadata": {},
   "source": [
    "### Escher FBA\n",
    "\n",
    "To help understand and visualize FBA and the resulting reaction fluxes, there is an excellent tool called **Escher FBA**. Follow [this link to Escher FBA](https://sbrg.github.io/escher-fba/#/), and start the browser app by clicking the Launch image.\n",
    "\n",
    "By default, the app is maximizing flux through the `Biomass_Ecoli_core_w_GAM` reaction, and flux values are represented by reaction arrow color and thickness. Hovering over a reaction name will show some information, as well as options to knock-out the reaction or to change the objective to maximizing or minimizing flux through that reaction.\n",
    "\n",
    "Try changing the objective to different reactions, and see how the flux distribution changes. Also try knocking out some reactions to view how it affects the results. You can reset the app using the **`Reset Map`** button in the lower right-hand corner."
   ]
  },
  {
   "cell_type": "markdown",
   "metadata": {},
   "source": [
    "### Inspect the optimization objective\n",
    "\n",
    "Now we will perform FBA using (the less pretty but more functional) COBRApy. First let us take a look at the optimization objective (Biomass reaction by default in this model)."
   ]
  },
  {
   "cell_type": "code",
   "execution_count": null,
   "metadata": {},
   "outputs": [],
   "source": [
    "# using cobra.util.solver:\n",
    "from cobra.util.solver import linear_reaction_coefficients\n",
    "linear_reaction_coefficients(model)"
   ]
  },
  {
   "cell_type": "code",
   "execution_count": null,
   "metadata": {},
   "outputs": [],
   "source": [
    "# Alternative: use list comprehension. The \"objective_coefficient\" indicates\n",
    "# which reactions are being maximized (1) or minimized (-1)\n",
    "[x for x in model.reactions if x.objective_coefficient != 0]"
   ]
  },
  {
   "cell_type": "code",
   "execution_count": null,
   "metadata": {},
   "outputs": [],
   "source": [
    "# view reaction details\n",
    "model.reactions.Biomass_Ecoli_core"
   ]
  },
  {
   "cell_type": "markdown",
   "metadata": {},
   "source": [
    "As one might expect, the biomass reaction formula is quite long and has therefore been truncated in the preview. View the full formula to see all the metabolites involved, and the (molar) ratios in which they are consumed/produced."
   ]
  },
  {
   "cell_type": "code",
   "execution_count": null,
   "metadata": {},
   "outputs": [],
   "source": [
    "# print entire reaction stoichiometry\n",
    "model.reactions.Biomass_Ecoli_core.build_reaction_string()"
   ]
  },
  {
   "cell_type": "code",
   "execution_count": null,
   "metadata": {},
   "outputs": [],
   "source": [
    "# view the objective direction (maximize or minimize the reaction flux)\n",
    "model.objective_direction"
   ]
  },
  {
   "cell_type": "markdown",
   "metadata": {},
   "source": [
    "### Perform the optimization"
   ]
  },
  {
   "cell_type": "code",
   "execution_count": null,
   "metadata": {},
   "outputs": [],
   "source": [
    "# run FBA and view a summary of the solution object\n",
    "solution = model.optimize()\n",
    "solution"
   ]
  },
  {
   "cell_type": "code",
   "execution_count": null,
   "metadata": {},
   "outputs": [],
   "source": [
    "# view a summary of the returned optimal flux distribution\n",
    "model.summary()"
   ]
  },
  {
   "cell_type": "markdown",
   "metadata": {},
   "source": [
    "From the summary, we can view some details beyond the value of the objective, such as which metabolites are being consumed from the media, which are being produced, and at what rate. "
   ]
  },
  {
   "cell_type": "code",
   "execution_count": null,
   "metadata": {},
   "outputs": [],
   "source": [
    "# get a summary of the fluxes involving a specific metabolite\n",
    "model.metabolites.atp_c.summary()"
   ]
  },
  {
   "cell_type": "code",
   "execution_count": null,
   "metadata": {},
   "outputs": [],
   "source": [
    "# get a summary of the fluxes involving a specific reaction\n",
    "model.reactions.GAPD.summary()"
   ]
  },
  {
   "cell_type": "markdown",
   "metadata": {},
   "source": [
    "### Change the optimization objective"
   ]
  },
  {
   "cell_type": "code",
   "execution_count": null,
   "metadata": {},
   "outputs": [],
   "source": [
    "# let us now optimize the flux through ATPM (\"ATP Maintenance\"), which is just the hydrolysis of ATP\n",
    "model.reactions.ATPM.build_reaction_string()"
   ]
  },
  {
   "cell_type": "code",
   "execution_count": null,
   "metadata": {},
   "outputs": [],
   "source": [
    "# change the objective to ATPM\n",
    "model.objective = 'ATPM'"
   ]
  },
  {
   "cell_type": "markdown",
   "metadata": {},
   "source": [
    "This will effectively maximize the production of ATP. Can you think of why we chose the `ATPM` reaction as the objective to do this?"
   ]
  },
  {
   "cell_type": "code",
   "execution_count": null,
   "metadata": {},
   "outputs": [],
   "source": [
    "# run FBA with the new objective\n",
    "solution = model.optimize()"
   ]
  },
  {
   "cell_type": "code",
   "execution_count": null,
   "metadata": {},
   "outputs": [],
   "source": [
    "# summarize the results\n",
    "model.summary()"
   ]
  },
  {
   "cell_type": "code",
   "execution_count": null,
   "metadata": {},
   "outputs": [],
   "source": [
    "# note that there is now no metabolic flux through the biomass reaction\n",
    "#model.reactions.Biomass_Ecoli_core.summary()  # gives an error because zero flux\n",
    "solution.fluxes.Biomass_Ecoli_core"
   ]
  },
  {
   "cell_type": "code",
   "execution_count": null,
   "metadata": {},
   "outputs": [],
   "source": [
    "# set the objective back to Biomass again, for the next sections\n",
    "model.objective = 'Biomass_Ecoli_core'"
   ]
  },
  {
   "cell_type": "markdown",
   "metadata": {},
   "source": [
    "## Perform an _in silico_ knockout\n",
    "\n",
    "As you may have seen in the Escher FBA app, we can simulate the effect of a gene knockout. In practice, this entails setting the upper and lower flux bounds of the associated reaction equal to zero, so that it cannot be used."
   ]
  },
  {
   "cell_type": "markdown",
   "metadata": {},
   "source": [
    "### Reaction knockout\n",
    "\n",
    "Although in reality we knockout a **gene** from an organism, not a **reaction**, we will start with knocking out a reaction."
   ]
  },
  {
   "cell_type": "code",
   "execution_count": null,
   "metadata": {},
   "outputs": [],
   "source": [
    "# copy the model so we don't alter the original\n",
    "model_ko = model.copy()"
   ]
  },
  {
   "cell_type": "code",
   "execution_count": null,
   "metadata": {},
   "outputs": [],
   "source": [
    "# first optimize biomass production to view the initial maximum flux value\n",
    "biomass_original = model_ko.optimize().objective_value\n",
    "biomass_original  # view starting biomass flux"
   ]
  },
  {
   "cell_type": "code",
   "execution_count": null,
   "metadata": {},
   "outputs": [],
   "source": [
    "# knock out the AKGDH reaction\n",
    "model_ko.reactions.AKGDH.knock_out()\n",
    "model_ko.reactions.AKGDH  # note that the upper and lower bound are now both zero"
   ]
  },
  {
   "cell_type": "markdown",
   "metadata": {},
   "source": [
    "Note that the reaction is still present in the model, but it now cannot carry any flux. If we wanted to completely remove it from the model altogether, we could use the `remove_from_model` function: `model.reactions.AKGDH.remove_from_model()`"
   ]
  },
  {
   "cell_type": "code",
   "execution_count": null,
   "metadata": {},
   "outputs": [],
   "source": [
    "# now re-optimize biomass flux\n",
    "model_ko.optimize().objective_value"
   ]
  },
  {
   "cell_type": "code",
   "execution_count": null,
   "metadata": {},
   "outputs": [],
   "source": [
    "# calculate the difference in biomass flux\n",
    "biomass_original - model_ko.optimize().objective_value"
   ]
  },
  {
   "cell_type": "markdown",
   "metadata": {},
   "source": [
    "Since we observe a decrease in the biomass flux after knocking out the AKGDH reaction, it indicates that the model found an alternative but less efficient pathway to generate the required biomass precursors. However, the biomass is not zero, so we would predict that this knockout would likely not be lethal to the organism."
   ]
  },
  {
   "cell_type": "markdown",
   "metadata": {},
   "source": [
    "### Gene knockout\n",
    "\n",
    "In reality, genes are knocked out, not reactions. Let us now try knocking out the _gapA_ (b1779) gene encoding the GAPD (Glyceraldehyde-3-phosphate dehydrogenase) reaction."
   ]
  },
  {
   "cell_type": "code",
   "execution_count": null,
   "metadata": {},
   "outputs": [],
   "source": [
    "# copy the original model again\n",
    "model_ko = model.copy()"
   ]
  },
  {
   "cell_type": "code",
   "execution_count": null,
   "metadata": {},
   "outputs": [],
   "source": [
    "# knock out the b1779 gene\n",
    "model_ko.genes.b1779.knock_out()\n",
    "\n",
    "# check which reactions became inactive (lower bound == upper bound == 0)\n",
    "[rxn.id for rxn in model_ko.reactions if rxn.upper_bound == rxn.lower_bound]"
   ]
  },
  {
   "cell_type": "code",
   "execution_count": null,
   "metadata": {},
   "outputs": [],
   "source": [
    "# view the GAPD reaction (bounds are now zero)\n",
    "model_ko.reactions.GAPD"
   ]
  },
  {
   "cell_type": "code",
   "execution_count": null,
   "metadata": {},
   "outputs": [],
   "source": [
    "# re-optimize the knockout model\n",
    "model_ko.optimize().objective_value"
   ]
  },
  {
   "cell_type": "markdown",
   "metadata": {},
   "source": [
    "Here we can see that the _gapA_ gene (and its encoded GAPD reaction) were quite important, as the biomass flux has effectively been reduced to zero. This is consistent with reports that _E. coli_ [cannot grow without this gene](https://biocyc.org/gene?orgid=ECOLI&id=EG10367#tab=ESS)."
   ]
  },
  {
   "cell_type": "markdown",
   "metadata": {},
   "source": [
    "### Perform all single gene or reaction deletions\n",
    "\n",
    "Since it is a common analysis, COBRApy has specific functions for iterating through each gene (or reaction) in the model, knocking it out, and calculating the associated objective value."
   ]
  },
  {
   "cell_type": "code",
   "execution_count": null,
   "metadata": {},
   "outputs": [],
   "source": [
    "from cobra.flux_analysis import single_gene_deletion, single_reaction_deletion"
   ]
  },
  {
   "cell_type": "code",
   "execution_count": null,
   "metadata": {},
   "outputs": [],
   "source": [
    "# delete all genes, one by one, and view the results\n",
    "gene_del_results = single_gene_deletion(model)\n",
    "gene_del_results"
   ]
  },
  {
   "cell_type": "code",
   "execution_count": null,
   "metadata": {},
   "outputs": [],
   "source": [
    "# delete all reactions, one by one, and view the results\n",
    "rxn_del_results = single_reaction_deletion(model)\n",
    "rxn_del_results"
   ]
  },
  {
   "cell_type": "markdown",
   "metadata": {},
   "source": [
    "### Isozyme and enzyme complex knockouts\n",
    "\n",
    "If you still have time, try knocking out genes that encode an isozyme or a complex subunit to see what effect it has on a reaction (remember that the bounds will change to zero once it has been knocked out)"
   ]
  },
  {
   "cell_type": "code",
   "execution_count": null,
   "metadata": {},
   "outputs": [],
   "source": [
    "# copy the original model again\n",
    "model_ko = model.copy()"
   ]
  },
  {
   "cell_type": "markdown",
   "metadata": {},
   "source": [
    "First try to inactivate the AKGDH reaction by knocking out one or more of its associated genes"
   ]
  },
  {
   "cell_type": "code",
   "execution_count": null,
   "metadata": {},
   "outputs": [],
   "source": [
    "model_ko.reactions.AKGDH"
   ]
  },
  {
   "cell_type": "code",
   "execution_count": null,
   "metadata": {},
   "outputs": [],
   "source": []
  },
  {
   "cell_type": "markdown",
   "metadata": {},
   "source": [
    "Next try knocking out one or more of the genes associated with the ACALD reaction"
   ]
  },
  {
   "cell_type": "code",
   "execution_count": null,
   "metadata": {},
   "outputs": [],
   "source": [
    "model_ko.reactions.ACALD"
   ]
  },
  {
   "cell_type": "code",
   "execution_count": null,
   "metadata": {},
   "outputs": [],
   "source": []
  },
  {
   "cell_type": "markdown",
   "metadata": {},
   "source": [
    "Did you notice anything different in how each of these reactions responds to having one of its genes knocked out? Is that consistent with your understanding of the difference between isozymes and enzyme complex subunits?"
   ]
  },
  {
   "cell_type": "code",
   "execution_count": null,
   "metadata": {},
   "outputs": [],
   "source": []
  }
 ],
 "metadata": {
  "kernelspec": {
   "display_name": "Python 3",
   "language": "python",
   "name": "python3"
  },
  "language_info": {
   "codemirror_mode": {
    "name": "ipython",
    "version": 3
   },
   "file_extension": ".py",
   "mimetype": "text/x-python",
   "name": "python",
   "nbconvert_exporter": "python",
   "pygments_lexer": "ipython3",
   "version": "3.8.5"
  }
 },
 "nbformat": 4,
 "nbformat_minor": 4
}
