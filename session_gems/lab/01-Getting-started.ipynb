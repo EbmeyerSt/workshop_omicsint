{
 "cells": [
  {
   "cell_type": "markdown",
   "metadata": {},
   "source": [
    "Welcome to the GEMs lab. In this lab, we will explore how to load a metabolic model, \n",
    "run simulations, and analyze the flux distributions using Python and COBRApy. This notebook is structured \n",
    "with explanations and code chunks to help you get started with metabolic modeling.\n",
    "\n",
    "---\n",
    "\n",
    "### Objective\n",
    "1. Load a metabolic model in SBML format.\n",
    "2. Run basic Flux Balance Analysis (FBA) simulations.\n",
    "3. Interpret reaction fluxes and analyze key metabolic behaviors.\n",
    "4. Download a model from the BiGG database and optimize flux distribution.\n",
    "\n",
    "Let's dive into the tasks step by step!"
   ]
  },
  {
   "cell_type": "markdown",
   "metadata": {},
   "source": [
    "## Loading a model"
   ]
  },
  {
   "cell_type": "code",
   "execution_count": null,
   "metadata": {
    "collapsed": true
   },
   "outputs": [],
   "source": [
    "from cobra.io import read_sbml_model"
   ]
  },
  {
   "cell_type": "markdown",
   "metadata": {},
   "source": [
    "## 1. Loading a metabolic model\n",
    "\n",
    "In this section, we will load a metabolic model in **SBML** format using COBRApy.\n",
    "\n",
    "SBML (Systems Biology Markup Language) is a widely used format for sharing models of biological processes. COBRApy allows you to import and analyze these models."
   ]
  },
  {
   "cell_type": "code",
   "execution_count": null,
   "metadata": {
    "collapsed": true
   },
   "outputs": [],
   "source": [
    "model = read_sbml_model('data/iJO1366.xml.gz')"
   ]
  },
  {
   "cell_type": "markdown",
   "metadata": {},
   "source": [
    "In the code above, we use `cobra.io.read_sbml_model` to load the iJO1366 metabolic model, \n",
    "which is a genome-scale model of *Escherichia coli* metabolism. This function parses the SBML file and returns \n",
    "a COBRApy model object.\n",
    "\n",
    "- **Link**: [COBRApy Documentation - Loading Models](https://cobrapy.readthedocs.io/en/latest/io.html)\n",
    "\""
   ]
  },
  {
   "cell_type": "markdown",
   "metadata": {},
   "source": [
    "## Simulations"
   ]
  },
  {
   "cell_type": "markdown",
   "metadata": {},
   "source": [
    "## 2. Running Simulations\n",
    "\n",
    "Once we have loaded a model, we can run simulations using Flux Balance Analysis (FBA). FBA optimizes the fluxes of reactions to maximize or minimize an objective function, typically the production of biomass."
   ]
  },
  {
   "cell_type": "code",
   "execution_count": null,
   "metadata": {
    "collapsed": true
   },
   "outputs": [],
   "source": [
    "model.solver = 'glpk'\n",
    "solution = model.optimize()"
   ]
  },
  {
   "cell_type": "markdown",
   "metadata": {},
   "source": [
    "Setting the solver and running FBA\n",
    "\n",
    "Display the optimal growth rate (objective function)\n",
    "print(f'The optimal growth rate is {solution.objective_value:.2f} h⁻¹')"
   ]
  },
  {
   "cell_type": "markdown",
   "metadata": {},
   "source": [
    "The `model.optimize()` method runs Flux Balance Analysis (FBA) on the model. Here, we have set the solver to 'glpk' (GNU Linear Programming Kit). \n",
    "The FBA optimizes the objective function, which is typically biomass production in microbial models. In the output, we print the optimal growth rate.\n",
    "\n",
    "- **Link**: [COBRApy Documentation - FBA](https://cobrapy.readthedocs.io/en/latest/flux_analysis.html)\n",
    "\n"
   ]
  },
  {
   "cell_type": "markdown",
   "metadata": {},
   "source": [
    "## 3. Extracting and Analyzing Fluxes\n",
    "\n",
    "Once we have optimized the model, we can extract and analyze the flux distribution across reactions.\n",
    "\n"
   ]
  },
  {
   "cell_type": "code",
   "execution_count": null,
   "metadata": {},
   "outputs": [],
   "source": [
    "for reaction in model.reactions:\n",
    "    print(reaction.id, reaction.flux, reaction.name)"
   ]
  },
  {
   "cell_type": "markdown",
   "metadata": {},
   "source": [
    "The growth rate is 0.98 $h^{-1}$."
   ]
  },
  {
   "cell_type": "code",
   "execution_count": null,
   "metadata": {},
   "outputs": [],
   "source": [
    "model.reactions.BIOMASS_Ec_iJO1366_core_53p95M.flux"
   ]
  },
  {
   "cell_type": "code",
   "execution_count": null,
   "metadata": {},
   "outputs": [],
   "source": [
    "solution_frame = solution.to_frame()\n",
    "solution_frame[solution_frame.fluxes != 0.]"
   ]
  },
  {
   "cell_type": "code",
   "execution_count": null,
   "metadata": {},
   "outputs": [],
   "source": [
    "solution_frame"
   ]
  },
  {
   "cell_type": "markdown",
   "metadata": {},
   "source": [
    "## Exercise\n",
    "\n",
    "1. Go to [bigg.ucsd.edu](http://bigg.ucsd.edu) and download a model in SBML format.\n",
    "1. Load the model using `load_model`.\n",
    "1. Optimize the flux distribution using regular flux balance analysis.\n",
    "1. What is the objective value?"
   ]
  }
 ],
 "metadata": {
  "anaconda-cloud": {},
  "kernelspec": {
   "display_name": "Python [conda env:cell-factory-course]",
   "language": "python",
   "name": "conda-env-cell-factory-course-py"
  },
  "language_info": {
   "codemirror_mode": {
    "name": "ipython",
    "version": 3
   },
   "file_extension": ".py",
   "mimetype": "text/x-python",
   "name": "python",
   "nbconvert_exporter": "python",
   "pygments_lexer": "ipython3",
   "version": "3.4.5"
  }
 },
 "nbformat": 4,
 "nbformat_minor": 1
}
