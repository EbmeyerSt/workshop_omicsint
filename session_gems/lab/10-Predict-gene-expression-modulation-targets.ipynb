{
 "cells": [
  {
   "cell_type": "markdown",
   "metadata": {},
   "source": [
    "# Predict expression modulation targets\n",
    "\n",
    "Cameo provides algorithms to search for genes or reactions that can be over or down regulated in order to achieve a given biological objective."
   ]
  },
  {
   "cell_type": "code",
   "execution_count": null,
   "metadata": {
    "collapsed": true
   },
   "outputs": [],
   "source": [
    "from cobra.io import read_sbml_model"
   ]
  },
  {
   "cell_type": "markdown",
   "metadata": {},
   "source": [
    "Load the E. coli core model."
   ]
  },
  {
   "cell_type": "code",
   "execution_count": null,
   "metadata": {
    "collapsed": true
   },
   "outputs": [],
   "source": [
    "model = read_sbml_model('data/e_coli_core.xml.gz')"
   ]
  },
  {
   "cell_type": "markdown",
   "metadata": {},
   "source": [
    "## Succinate production"
   ]
  },
  {
   "cell_type": "markdown",
   "metadata": {},
   "source": [
    "The production envelope looks like this."
   ]
  },
  {
   "cell_type": "code",
   "execution_count": null,
   "metadata": {},
   "outputs": [],
   "source": [
    "from cameo.flux_analysis.analysis import phenotypic_phase_plane\n",
    "production_envelope = phenotypic_phase_plane(model, \n",
    "                                             variables=[model.reactions.BIOMASS_Ecoli_core_w_GAM],\n",
    "                                             objective=model.metabolites.succ_e)\n",
    "production_envelope.plot(height=400, width=800)"
   ]
  },
  {
   "cell_type": "markdown",
   "metadata": {},
   "source": [
    "## Flux Scanning based on Enforced Objective Flux"
   ]
  },
  {
   "cell_type": "code",
   "execution_count": null,
   "metadata": {
    "collapsed": true
   },
   "outputs": [],
   "source": [
    "from cameo.strain_design.deterministic.flux_variability_based import FSEOF"
   ]
  },
  {
   "cell_type": "code",
   "execution_count": null,
   "metadata": {
    "collapsed": true
   },
   "outputs": [],
   "source": [
    "fseof = FSEOF(model)"
   ]
  },
  {
   "cell_type": "code",
   "execution_count": null,
   "metadata": {
    "collapsed": true
   },
   "outputs": [],
   "source": [
    "result = fseof.run(target=model.reactions.EX_succ_e)"
   ]
  },
  {
   "cell_type": "code",
   "execution_count": null,
   "metadata": {},
   "outputs": [],
   "source": [
    "result.data_frame"
   ]
  },
  {
   "cell_type": "code",
   "execution_count": null,
   "metadata": {},
   "outputs": [],
   "source": [
    "from matplotlib import pyplot as plt\n",
    "result.data_frame.T.plot()\n",
    "plt.legend(loc='center left', bbox_to_anchor=(1, 0.5))\n",
    "plt.show()"
   ]
  },
  {
   "cell_type": "markdown",
   "metadata": {},
   "source": [
    "## Differential flux variability analysis\n",
    "\n",
    "Compares flux ranges of a reference model to a set of models that have been parameterized to lie on a grid of evenly spaced points in the n-dimensional production envelope (n being the number of reaction bounds to be varied)."
   ]
  },
  {
   "cell_type": "code",
   "execution_count": null,
   "metadata": {
    "collapsed": true
   },
   "outputs": [],
   "source": [
    "from cameo.strain_design.deterministic import DifferentialFVA"
   ]
  },
  {
   "cell_type": "markdown",
   "metadata": {},
   "source": [
    "Set up a model that represents a reference state (in this case a model with a constrained growth rate)."
   ]
  },
  {
   "cell_type": "code",
   "execution_count": null,
   "metadata": {
    "collapsed": true
   },
   "outputs": [],
   "source": [
    "model.reactions.EX_o2_e.lower_bound = 0\n",
    "reference_model = model.copy()\n",
    "biomass_rxn = reference_model.reactions.BIOMASS_Ecoli_core_w_GAM\n",
    "biomass_rxn.lower_bound = 0.\n",
    "target = reference_model.metabolites.succ_e"
   ]
  },
  {
   "cell_type": "markdown",
   "metadata": {},
   "source": [
    "Set up the differential flux variability analysis strain design method."
   ]
  },
  {
   "cell_type": "code",
   "execution_count": null,
   "metadata": {
    "collapsed": true
   },
   "outputs": [],
   "source": [
    "diff_fva = DifferentialFVA(design_space_model=model,\n",
    "                           reference_model=reference_model,\n",
    "                           objective=target,\n",
    "                           variables=[biomass_rxn],\n",
    "                           normalize_ranges_by=biomass_rxn,\n",
    "                           points=10)"
   ]
  },
  {
   "cell_type": "markdown",
   "metadata": {},
   "source": [
    "Run differential flux variability analysis (only on the surface of the production envelope)"
   ]
  },
  {
   "cell_type": "code",
   "execution_count": null,
   "metadata": {
    "scrolled": false
   },
   "outputs": [],
   "source": [
    "%time result = diff_fva.run(surface_only=True)\n",
    "result.plot()"
   ]
  },
  {
   "cell_type": "code",
   "execution_count": null,
   "metadata": {},
   "outputs": [],
   "source": [
    "result.plot(5, variables=['FBP', 'G6PDH2r', 'PGL', 'PGK'])"
   ]
  },
  {
   "cell_type": "code",
   "execution_count": null,
   "metadata": {},
   "outputs": [],
   "source": [
    "result"
   ]
  },
  {
   "cell_type": "code",
   "execution_count": null,
   "metadata": {},
   "outputs": [],
   "source": [
    "result.display_on_map(5, map_name=\"iJO1366.Central metabolism\")"
   ]
  }
 ],
 "metadata": {
  "anaconda-cloud": {},
  "kernelspec": {
   "display_name": "Python [conda env:cell-factory-course]",
   "language": "python",
   "name": "conda-env-cell-factory-course-py"
  },
  "language_info": {
   "codemirror_mode": {
    "name": "ipython",
    "version": 3
   },
   "file_extension": ".py",
   "mimetype": "text/x-python",
   "name": "python",
   "nbconvert_exporter": "python",
   "pygments_lexer": "ipython3",
   "version": "3.4.5"
  },
  "widgets": {
   "state": {
    "1d69d8402bee4ffd95fb3c3bdb3fcd2c": {
     "views": [
      {
       "cell_index": 20
      }
     ]
    },
    "5892a0da475d446b8e73a90fcdecdabf": {
     "views": [
      {
       "cell_index": 22
      }
     ]
    }
   },
   "version": "1.2.0"
  }
 },
 "nbformat": 4,
 "nbformat_minor": 2
}
