{
 "cells": [
  {
   "cell_type": "markdown",
   "metadata": {},
   "source": [
    "# Proteomics Integration"
   ]
  },
  {
   "cell_type": "markdown",
   "metadata": {},
   "source": [
    "Load a enzyme constrained metabolic mdoel of _Escherichia coli_."
   ]
  },
  {
   "cell_type": "code",
   "execution_count": null,
   "metadata": {},
   "outputs": [],
   "source": [
    "import pandas as pd\n",
    "\n",
    "from cobra.io import read_sbml_model\n",
    "from cobra.flux_analysis import flux_variability_analysis\n",
    "\n",
    "model = read_sbml_model('data/eciML1515.xml.gz')"
   ]
  },
  {
   "cell_type": "markdown",
   "metadata": {},
   "source": [
    "The model has two differences with a standard COBRA model. First, the reactions contain another _metabolite_: the enyzme itself."
   ]
  },
  {
   "cell_type": "code",
   "execution_count": null,
   "metadata": {},
   "outputs": [],
   "source": [
    "model.reactions.FRD2No1"
   ]
  },
  {
   "cell_type": "markdown",
   "metadata": {},
   "source": [
    "In this model, all protein ids follow the form `prot_UNIPROT`."
   ]
  },
  {
   "cell_type": "markdown",
   "metadata": {},
   "source": [
    "The second difference is the existence of _protein exchange reactions_. These protein exchanges follow the naming `prot_UNIPROT_exchange`."
   ]
  },
  {
   "cell_type": "code",
   "execution_count": null,
   "metadata": {},
   "outputs": [],
   "source": [
    "model.reactions.prot_P00363_exchange"
   ]
  },
  {
   "cell_type": "markdown",
   "metadata": {},
   "source": [
    "By putting an upper bound on these exchanges, we will integrate proteomics data into the model and treat it as an usual COBRA model without further changes."
   ]
  },
  {
   "cell_type": "markdown",
   "metadata": {},
   "source": [
    "## 1. Proteomics data preparation\n",
    "Proteomics data is usually presented as Number of copies per cell. We need to do convert this information into the units used by the enzyme constrained model."
   ]
  },
  {
   "cell_type": "markdown",
   "metadata": {},
   "source": [
    "<div class=\"alert alert-block alert-warning\">\n",
    "<b>DEBUG:</b> Should run PCA for the entire dataset?\n",
    "</div>"
   ]
  },
  {
   "cell_type": "code",
   "execution_count": null,
   "metadata": {},
   "outputs": [],
   "source": [
    "df = pd.read_csv(\n",
    "    #\"data/ecoli_proteomics_schmidt2016_S9.tsv\", # our strain but just Glc/LB\n",
    "    \"data/ecoli_proteomics_schmidt2016_S5_ren.tsv\", # BW25113 22 media\n",
    "    \"\\t\", skiprows=2  # skip titles and subtitles (XLXS)\n",
    ")\n",
    "exp_details = pd.read_csv(\n",
    "    \"data/ecoli_details_schmidt2016_S23.tsv\", \"\\t\", \n",
    "    skiprows=2  # skip titles and subtitles (XLXS)\n",
    ")"
   ]
  },
  {
   "cell_type": "code",
   "execution_count": null,
   "metadata": {},
   "outputs": [],
   "source": [
    "df.head()"
   ]
  },
  {
   "cell_type": "code",
   "execution_count": null,
   "metadata": {},
   "outputs": [],
   "source": [
    "exp_details.head()"
   ]
  },
  {
   "cell_type": "code",
   "execution_count": null,
   "metadata": {},
   "outputs": [],
   "source": [
    "df = df.loc[:, \n",
    "    df.columns.str.contains(\"_copies|_cv\", regex=True) |  # only interested in copies/cell and uncertainty\n",
    "    df.columns.isin([\"Uniprot Accession\"])  # and relevant info about proteins\n",
    "]"
   ]
  },
  {
   "cell_type": "code",
   "execution_count": null,
   "metadata": {
    "scrolled": true
   },
   "outputs": [],
   "source": [
    "df_ac = df.loc[:, [\"Uniprot Accession\", \"Acetate_copies\", \"Acetate_cv\"]]\n",
    "# rename resulting columns\n",
    "df_ac.columns = [\"uniprot\", \"copies_per_cell\", \"CV\"]"
   ]
  },
  {
   "cell_type": "code",
   "execution_count": null,
   "metadata": {},
   "outputs": [],
   "source": [
    "df_ac.describe()"
   ]
  },
  {
   "cell_type": "code",
   "execution_count": null,
   "metadata": {},
   "outputs": [],
   "source": [
    "# apply uncertainty (extend upper bound as 1/2 of stdev)\n",
    "df_ac[\"copies_upper\"] = df_ac[\"copies_per_cell\"] + 0.5 * df_ac[\"CV\"]/100 * df_ac[\"copies_per_cell\"]"
   ]
  },
  {
   "cell_type": "markdown",
   "metadata": {},
   "source": [
    "First, convert copies per cell to abundance per cell.\n",
    "\\begin{align}\n",
    "\\frac{\\text{mmol}}{\\text{cell}} = \\frac{\\text{molecules}}{\\text{cell}} \\frac{10^3\\text{mol}}{\\text{molecules}}\n",
    "\\end{align}"
   ]
  },
  {
   "cell_type": "code",
   "execution_count": null,
   "metadata": {},
   "outputs": [],
   "source": [
    "df_ac[\"mmol_per_cell\"] = df_ac[\"copies_upper\"] * 1e3/6.022e23"
   ]
  },
  {
   "cell_type": "markdown",
   "metadata": {},
   "source": [
    "And, then, convert the abundance per cell into abundance per gDW.\n",
    "\n",
    "\\begin{align}\n",
    "\\frac{\\text{mmol}}{\\text{gDW}} = \\frac{\\text{mmol}}{\\text{cell}} \\frac{\\text{cell}}{fL} \\frac{fL}{g}\\frac{g}{\\text{gDW}}\n",
    "\\end{align}"
   ]
  },
  {
   "cell_type": "code",
   "execution_count": null,
   "metadata": {},
   "outputs": [],
   "source": [
    "growth_experimental = exp_details.loc[\n",
    "    (exp_details[\"Growth condition\"]==\"Acetate\") & (exp_details[\"Strain\"]==\"BW25113\"), \n",
    "    \"Growth rate (h-1)\"\n",
    "].values[0]\n",
    "cell_volume = exp_details.loc[\n",
    "    (exp_details[\"Growth condition\"]==\"Acetate\") & (exp_details[\"Strain\"]==\"BW25113\"), \n",
    "    \"Single cell volume [fl]1\"\n",
    "].values[0]\n",
    "cell_density = 1.105e-12\n",
    "water_content = 0.3"
   ]
  },
  {
   "cell_type": "code",
   "execution_count": null,
   "metadata": {},
   "outputs": [],
   "source": [
    "df_ac[\"conc\"] = df_ac[\"mmol_per_cell\"] * 1 / (cell_volume * cell_density * water_content)"
   ]
  },
  {
   "cell_type": "code",
   "execution_count": null,
   "metadata": {},
   "outputs": [],
   "source": [
    "proteomics = df_ac[\"conc\"]\n",
    "proteomics.index = df_ac[\"uniprot\"]"
   ]
  },
  {
   "cell_type": "markdown",
   "metadata": {},
   "source": [
    "## 2. Model\n",
    "Simulations part (caffeine)"
   ]
  },
  {
   "cell_type": "code",
   "execution_count": null,
   "metadata": {},
   "outputs": [],
   "source": [
    "# save the non enzyme-constrained model\n",
    "plain_model = model.copy()"
   ]
  },
  {
   "cell_type": "code",
   "execution_count": null,
   "metadata": {},
   "outputs": [],
   "source": [
    "def limit_proteins(model, measurements):\n",
    "    \"\"\"Apply proteomics measurements to `model`.\n",
    "\n",
    "    Adapted from https://github.com/DD-DeCaF/simulations/blob/devel/src/simulations/modeling/driven.py\n",
    "\n",
    "    Parameters\n",
    "    ----------\n",
    "    model: cobra.Model\n",
    "        The enzyme-constrained model.\n",
    "    measurements : pd.DataFrame\n",
    "        Protein abundances in mmol / gDW.\n",
    "\n",
    "    \"\"\"\n",
    "    for protein_id, measure in measurements.items():\n",
    "        try:\n",
    "            rxn = model.reactions.get_by_id(f\"prot_{protein_id}_exchange\")\n",
    "        except KeyError:\n",
    "            pass\n",
    "        else:\n",
    "            # update only upper_bound (as enzymes can be unsaturated):\n",
    "            rxn.bounds = (0, measure)"
   ]
  },
  {
   "cell_type": "markdown",
   "metadata": {},
   "source": [
    "Optimize the enzyme constrained model."
   ]
  },
  {
   "cell_type": "code",
   "execution_count": null,
   "metadata": {},
   "outputs": [],
   "source": [
    "limit_proteins(model, proteomics)"
   ]
  },
  {
   "cell_type": "code",
   "execution_count": null,
   "metadata": {},
   "outputs": [],
   "source": [
    "# enzyme-contrained (the model doesn't grow)\n",
    "\n",
    "model.optimize()"
   ]
  },
  {
   "cell_type": "markdown",
   "metadata": {},
   "source": [
    "The model can't grow!"
   ]
  },
  {
   "cell_type": "markdown",
   "metadata": {},
   "source": [
    "## 3. Flexibilization"
   ]
  },
  {
   "cell_type": "markdown",
   "metadata": {},
   "source": [
    "Experimental measurements can be too restrictive if an uncertainty is not given. Thus, a flexibilization of the proteomics data is usually required to work with enzyme constrained models."
   ]
  },
  {
   "cell_type": "code",
   "execution_count": null,
   "metadata": {},
   "outputs": [],
   "source": [
    "def top_shadow_prices(solution, met_ids, top=1):\n",
    "    \"\"\"\n",
    "    Retrieves shadow prices for a list of metabolites from the solution and ranks\n",
    "    them from most to least sensitive in the model.\n",
    "\n",
    "    Parameters\n",
    "    ----------\n",
    "    solution: cobra.Solution\n",
    "        The usual Solution object returned by model.optimize().\n",
    "    biomass_reaction: str\n",
    "        name of biomass reaction\n",
    "    met_ids: iterable of strings\n",
    "        Subset of metabolite IDs from the model.\n",
    "    top: int\n",
    "        The number of metabolites to be returned.\n",
    "\n",
    "    Returns\n",
    "    -------\n",
    "    shadow_pr: pd.Series\n",
    "        Top shadow prices, ranked.\n",
    "    \"\"\"\n",
    "    shadow_pr = solution.shadow_prices\n",
    "    shadow_pr = shadow_pr.loc[shadow_pr.index.isin(met_ids)]\n",
    "    return shadow_pr.sort_values()[:top]\n",
    "\n",
    "\n",
    "def flexibilize_proteomics(\n",
    "    model, biomass_reaction, minimal_growth, proteomics\n",
    "):\n",
    "    \"\"\"\n",
    "    Replace proteomics measurements with a set that enables the model to grow. Proteins\n",
    "    are removed from the set iteratively based on sensitivity analysis (shadow prices).\n",
    "    \n",
    "    Adapted from https://github.com/DD-DeCaF/simulations/blob/devel/src/simulations/modeling/driven.py\n",
    "\n",
    "    Parameters\n",
    "    ----------\n",
    "    model: cobra.Model\n",
    "        The enzyme-constrained model.\n",
    "    minimal_growth_rate: float\n",
    "        Minimal growth rate to enforce.\n",
    "    proteomics: pandas.DataFrame\n",
    "        List of measurements.\n",
    "\n",
    "    Returns\n",
    "    -------\n",
    "    growth_rate: dict\n",
    "        New growth rate (will change if the model couldn't grow at the inputted value).\n",
    "    proteomics: list(dict)\n",
    "        Filtered list of proteomics.\n",
    "\n",
    "    \"\"\"\n",
    "    def protein_to_metabolite(protein_id, model):\n",
    "        met_id = model.metabolites.query(lambda m: protein_id in m.id)\n",
    "        return met_id[0].id if met_id else \"\"\n",
    "    \n",
    "    # reset growth rate in model:\n",
    "    model.reactions.get_by_id(biomass_reaction).bounds = (0, 1000)\n",
    "\n",
    "    # build a table with protein ids, met ids in model and values to constrain with:\n",
    "    prot_df = pd.DataFrame(proteomics)\n",
    "    prot_df.index = prot_df.index.astype(\"str\")\n",
    "    prot_df[\"met_id\"] = [protein_to_metabolite(prot, model) for prot in prot_df.index]\n",
    "    prot_df = prot_df[prot_df.met_id != \"\"]\n",
    "    \n",
    "    # constrain the model with all proteins and optimize:\n",
    "    limit_proteins(model, proteomics)\n",
    "    solution = model.optimize()\n",
    "    new_growth_rate = solution.objective_value if solution.objective_value else 0\n",
    "    \n",
    "    # relax growth constraint\n",
    "    minimal_growth *= 1.05\n",
    "\n",
    "    # while the model cannot grow to the desired level, remove the protein with\n",
    "    # the highest shadow price:\n",
    "    prots_to_remove = []\n",
    "    while new_growth_rate < minimal_growth and not prot_df.empty:\n",
    "        # get most influential protein in model:\n",
    "        top_protein = top_shadow_prices(solution, list(prot_df[\"met_id\"]))\n",
    "        top_protein = top_protein.index[0]\n",
    "        top_protein = prot_df.index[prot_df[\"met_id\"] == top_protein][0]\n",
    "\n",
    "        # update data: append protein to list, remove from current dataframe and\n",
    "        # increase the corresponding upper bound to +1000:\n",
    "        prots_to_remove.append(top_protein)\n",
    "        prot_df = prot_df.drop(labels=top_protein)\n",
    "        limit_proteins(model, pd.Series(data=[1000], index=[top_protein]))\n",
    "\n",
    "        # re-compute solution:\n",
    "        solution = model.optimize()\n",
    "        #if solution.objective_value == new_growth_rate:  # the algorithm is stuck\n",
    "        #    break\n",
    "        new_growth_rate = solution.objective_value if solution.objective_value else 0\n",
    "\n",
    "    # update growth rate if optimization was not successful:\n",
    "    if new_growth_rate < minimal_growth:\n",
    "        print(\n",
    "            f\"Minimal growth was not reached! \"\n",
    "            f\"Final growth of the model: {new_growth_rate}\"\n",
    "        )\n",
    "\n",
    "    return new_growth_rate, prots_to_remove"
   ]
  },
  {
   "cell_type": "markdown",
   "metadata": {},
   "source": [
    "Enforce 0.1 of growth rate"
   ]
  },
  {
   "cell_type": "code",
   "execution_count": null,
   "metadata": {
    "scrolled": true
   },
   "outputs": [],
   "source": [
    "biomass_reaction = \"BIOMASS_Ec_iML1515_core_75p37M\"\n",
    "new_growth_rate, prots_removed = flexibilize_proteomics(model, biomass_reaction, growth_experimental, proteomics)"
   ]
  },
  {
   "cell_type": "code",
   "execution_count": null,
   "metadata": {},
   "outputs": [],
   "source": [
    "print(f\"Proteins in dataset: {proteomics.shape[0]}\\nProteins removed: {len(prots_removed)}\")"
   ]
  },
  {
   "cell_type": "code",
   "execution_count": null,
   "metadata": {},
   "outputs": [],
   "source": [
    "model.optimize()"
   ]
  },
  {
   "cell_type": "code",
   "execution_count": null,
   "metadata": {},
   "outputs": [],
   "source": [
    "plain_model.optimize()"
   ]
  },
  {
   "cell_type": "markdown",
   "metadata": {},
   "source": [
    "Let's compare the carbon source utilization of both models"
   ]
  },
  {
   "cell_type": "code",
   "execution_count": null,
   "metadata": {},
   "outputs": [],
   "source": [
    "# exchanges in this are on the right-had side\n",
    "plain_exchanges = [reaction for reaction in plain_model.exchanges if reaction.flux > 0]\n",
    "enzyme_exchanges = [reaction for reaction in model.exchanges if reaction.flux > 0]"
   ]
  },
  {
   "cell_type": "code",
   "execution_count": null,
   "metadata": {},
   "outputs": [],
   "source": [
    "plain_fva = flux_variability_analysis(plain_model)"
   ]
  },
  {
   "cell_type": "code",
   "execution_count": null,
   "metadata": {},
   "outputs": [],
   "source": [
    "enzyme_fva = flux_variability_analysis(model)"
   ]
  },
  {
   "cell_type": "code",
   "execution_count": null,
   "metadata": {},
   "outputs": [],
   "source": [
    "enzyme_fva[enzyme_fva.maximum < 700].sort_values(\"maximum\", ascending=False)"
   ]
  },
  {
   "cell_type": "code",
   "execution_count": null,
   "metadata": {},
   "outputs": [],
   "source": [
    "plain_fva[plain_fva.maximum < 700].sort_values(\"maximum\", ascending=False)"
   ]
  },
  {
   "cell_type": "code",
   "execution_count": null,
   "metadata": {},
   "outputs": [],
   "source": [
    "enzyme_fva[enzyme_fva.index.str.startswith(\"prot_\")].sort_values(\"maximum\", ascending=False)"
   ]
  },
  {
   "cell_type": "markdown",
   "metadata": {},
   "source": [
    "## Exercise"
   ]
  },
  {
   "cell_type": "markdown",
   "metadata": {},
   "source": [
    "* Identify enzymatic bottlenecks in the enzymed constrained model in **Acetate** as carbon source (shadow prices?).\n",
    "* Prepare and limit the model for the medium with Glucose\n",
    "* Does the model grow? If not, try flexibilizing the model.\n",
    "* Identify enzymatic bottlenecks in the enzymed constrained model in with **Glucose** as carbon source (shadow prices?).\n"
   ]
  }
 ],
 "metadata": {
  "kernelspec": {
   "display_name": "Python 3",
   "language": "python",
   "name": "python3"
  },
  "language_info": {
   "codemirror_mode": {
    "name": "ipython",
    "version": 3
   },
   "file_extension": ".py",
   "mimetype": "text/x-python",
   "name": "python",
   "nbconvert_exporter": "python",
   "pygments_lexer": "ipython3",
   "version": "3.6.11"
  }
 },
 "nbformat": 4,
 "nbformat_minor": 2
}
