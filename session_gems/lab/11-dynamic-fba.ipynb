{
 "cells": [
  {
   "cell_type": "markdown",
   "metadata": {},
   "source": [
    "# Creating and simulating a DFBA model\n",
    "This tutorial demonstrates how to build and simulate a DFBA model corresponding to the growth of a single strain of _Escherichia coli_ (based on the iJR904 genome-scale model) under aerobic and anaerobic conditions with glucose and xylose as limiting carbon substrates. \n",
    "\n",
    "This notebook was adapted with minor changes from the [dfba documentation](https://dynamic-fba.readthedocs.io/en/latest/example1.html)."
   ]
  },
  {
   "cell_type": "code",
   "execution_count": null,
   "metadata": {},
   "outputs": [],
   "source": [
    "from os.path import dirname, join, pardir\n",
    "\n",
    "from cobra.io import read_sbml_model\n",
    "\n",
    "from dfba import DfbaModel, ExchangeFlux, KineticVariable"
   ]
  },
  {
   "cell_type": "markdown",
   "metadata": {},
   "source": [
    "## 1. Dfba model\n",
    "A model will be build as the following ODE system:\n",
    "\\begin{align}\n",
    "    \\frac{dX}{dt} &= v_{BM}X \\\\\n",
    "    \\frac{dC_j}{dt} &= v_jX\n",
    "\\end{align}\n",
    "\n",
    "where $X$ is the Biomass (_gDW_); $v$ is the flux of a exchange reaction $j$ (_mmol/gDW/h_) or the exchange biomass reaction $BM$ (_g/gDW/h_, to measure growth). \n",
    "\n",
    "First off, specify the path for loading file containing genome-scale metabolic model as [cobra.Model](https://cobrapy.readthedocs.io/en/latest/building_model.html) object and set GLPK as LP solver of choice. After that, instantiate the object of class `DfbaModel` with the cobrapy model."
   ]
  },
  {
   "cell_type": "code",
   "execution_count": null,
   "metadata": {},
   "outputs": [],
   "source": [
    "path_to_model = join(pardir, \"sbml-models\", \"iJR904.xml.gz\")\n",
    "fba_model = read_sbml_model(path_to_model)\n",
    "fba_model.solver = \"glpk\"\n",
    "dfba_model = DfbaModel(fba_model)"
   ]
  },
  {
   "cell_type": "markdown",
   "metadata": {},
   "source": [
    "<div class=\"alert alert-info\">\n",
    "\n",
    "**Note:** A wall of warnings - which can be safely ignored - may be produced when loading this model with `cobra.io.read_sbml_model`.\n",
    "\n",
    "</div>"
   ]
  },
  {
   "cell_type": "markdown",
   "metadata": {},
   "source": [
    "## 2. Kinetic Variables\n",
    "For this example, the metabolites $j$ in the medium will be **Glucose, Xylose, Oxygen and Ethanol**. Later, we will establish the kinetic rules for the uptakes of these metabolites. In addition, we need to set a variable to keep track of the **biomass**.\n",
    "\n",
    "Instantiate kinetic variables to appear in model. The last command adds the kinetic variables to the model."
   ]
  },
  {
   "cell_type": "code",
   "execution_count": null,
   "metadata": {},
   "outputs": [],
   "source": [
    "X = KineticVariable(\"Biomass\")\n",
    "Gluc = KineticVariable(\"Glucose\")\n",
    "Xyl = KineticVariable(\"Xylose\")\n",
    "Oxy = KineticVariable(\"Oxygen\")\n",
    "Eth = KineticVariable(\"Ethanol\")\n",
    "\n",
    "dfba_model.add_kinetic_variables([X, Gluc, Xyl, Oxy, Eth])"
   ]
  },
  {
   "cell_type": "markdown",
   "metadata": {},
   "source": [
    "## 3. Exchange fluxes\n",
    "Instantiate exchange fluxes to appear in model, with ids corresponding to exchange reactions of the cobrapy model. The last command adds the exchange fluxes to the model."
   ]
  },
  {
   "cell_type": "code",
   "execution_count": null,
   "metadata": {},
   "outputs": [],
   "source": [
    "mu = ExchangeFlux(\"BiomassEcoli\")\n",
    "v_G = ExchangeFlux(\"EX_glc(e)\")\n",
    "v_Z = ExchangeFlux(\"EX_xyl_D(e)\")\n",
    "v_O = ExchangeFlux(\"EX_o2(e)\")\n",
    "v_E = ExchangeFlux(\"EX_etoh(e)\")\n",
    "\n",
    "dfba_model.add_exchange_fluxes([mu, v_G, v_Z, v_O, v_E])"
   ]
  },
  {
   "cell_type": "markdown",
   "metadata": {},
   "source": [
    "## 4. Rhs expressions \n",
    "Provide symbolic expression for calculating the time derivative of each kinetic variable currently in the model. See how these correspond to our ODE system.\n",
    "\\begin{align}\n",
    "    \\frac{dX}{dt} &= v_{BM}X \\\\\n",
    "    \\frac{dC_j}{dt} &= v_jX\n",
    "\\end{align}"
   ]
  },
  {
   "cell_type": "code",
   "execution_count": null,
   "metadata": {},
   "outputs": [],
   "source": [
    "dfba_model.add_rhs_expression(\"Biomass\", mu * X)\n",
    "dfba_model.add_rhs_expression(\"Glucose\", v_G * X / 1000.0)\n",
    "dfba_model.add_rhs_expression(\"Xylose\", v_Z * X / 1000.0)\n",
    "dfba_model.add_rhs_expression(\"Oxygen\", v_O * X / 1000.0)\n",
    "dfba_model.add_rhs_expression(\"Ethanol\", v_E * X / 1000.0)"
   ]
  },
  {
   "cell_type": "markdown",
   "metadata": {},
   "source": [
    "## 5. Lower/upper bound expressions \n",
    "Add symbolic expressions for calculating lower/upper bounds of selected exchange fluxes\n",
    "currently in the model. Here, the convention is that both lower and upper bound expressions have \n",
    "positive signs, whereas lower bounds values are typically negative in cobrapy. \n",
    "\n",
    "Here, the lower bounds will follow a Michaelis-Menten kinetics:\n",
    "\n",
    "$$\n",
    "lb = - \\frac{C_jV_{max}}{ C_j + K_m}\n",
    "$$\n",
    "\n",
    "(The Kinetic parameters $V_{max}$ and $K_m$ can be found in the literature for the given exchange reactions)"
   ]
  },
  {
   "cell_type": "code",
   "execution_count": null,
   "metadata": {},
   "outputs": [],
   "source": [
    "dfba_model.add_exchange_flux_lb(\"EX_o2(e)\", 15.0 * (Oxy / (0.024 + Oxy)), Oxy)"
   ]
  },
  {
   "cell_type": "markdown",
   "metadata": {},
   "source": [
    "But we are not limited to this formula! Let's say Glucose is inhibited by Ethanol."
   ]
  },
  {
   "cell_type": "code",
   "execution_count": null,
   "metadata": {},
   "outputs": [],
   "source": [
    "dfba_model.add_exchange_flux_lb(\n",
    "    \"EX_glc(e)\", 10.5 * (Gluc / (0.0027 + Gluc)) * (1 / (1 + Eth / 20.0)), Gluc\n",
    ")"
   ]
  },
  {
   "cell_type": "markdown",
   "metadata": {},
   "source": [
    "And Xylose in inhibited by both Ethanol and Glucose"
   ]
  },
  {
   "cell_type": "code",
   "execution_count": null,
   "metadata": {},
   "outputs": [],
   "source": [
    "dfba_model.add_exchange_flux_lb(\n",
    "    \"EX_xyl_D(e)\",\n",
    "    6.0\n",
    "    * (Xyl / (0.0165 + Xyl))\n",
    "    * (1 / (1 + Eth / 20.0))\n",
    "    * (1 / (1 + Gluc / 0.005)),\n",
    "    Xyl,\n",
    ")"
   ]
  },
  {
   "cell_type": "markdown",
   "metadata": {},
   "source": [
    "## 6. Add initial conditions to the model and launch the simulation.\n",
    "Initial values for each kinetic variable are provided in dictionary form. \n",
    "\n",
    "The model is simulated using the `simulate` method. This simulation covers the interval $[0.0, 25.0]$ hours, with results stored every $0.1$ hours. Results (trajectories of kinetic variables) will be returned as [pandas.DataFrame](https://pandas.pydata.org/). Optionally, the user can also provide a list of reaction ids whose flux trajectories will also be returned as a separate [pandas.DataFrame](https://pandas.pydata.org/), in this case three exchange fluxes in the model."
   ]
  },
  {
   "cell_type": "code",
   "execution_count": null,
   "metadata": {},
   "outputs": [],
   "source": [
    "dfba_model.add_initial_conditions(\n",
    "    {\n",
    "        \"Biomass\": 0.03,\n",
    "        \"Glucose\": 4.0,\n",
    "        \"Xylose\": 5.0,\n",
    "        \"Oxygen\": 0.5,\n",
    "        \"Ethanol\": 0.0,\n",
    "    }\n",
    ")\n",
    "concentrations, trajectories = dfba_model.simulate(0.0, 16.0, 0.1, [\"EX_glc(e)\", \"EX_xyl_D(e)\", \"EX_etoh(e)\"])"
   ]
  },
  {
   "cell_type": "markdown",
   "metadata": {},
   "source": [
    "## 7. Plotting the results\n",
    "<div class=\"alert alert-info\">\n",
    "\n",
    "**Note:** In order plot the results, one of [plotly](https://plot.ly/python/) or [matplotlib](https://matplotlib.org/) must be used. Check the [original example in the documentation](https://dynamic-fba.readthedocs.io/en/latest/example1.html#Matplotlib) to see the matplotlib counterpart.\n",
    "\n",
    "</div>"
   ]
  },
  {
   "cell_type": "code",
   "execution_count": null,
   "metadata": {},
   "outputs": [],
   "source": [
    "from dfba.plot.plotly import *"
   ]
  },
  {
   "cell_type": "code",
   "execution_count": null,
   "metadata": {},
   "outputs": [],
   "source": [
    "fig = plot_concentrations(concentrations)\n",
    "fig.show()"
   ]
  },
  {
   "cell_type": "code",
   "execution_count": null,
   "metadata": {},
   "outputs": [],
   "source": [
    "fig = plot_trajectories(trajectories)\n",
    "fig.show()"
   ]
  },
  {
   "cell_type": "markdown",
   "metadata": {},
   "source": [
    "## Exercises (10 min)\n",
    "1. Add a death rate $\\delta$ to the model.\n",
    "    $$\n",
    "    \\frac{dX}{dt} = v_{BM}X - \\delta X\n",
    "    $$\n",
    "2. Run under anaerobic conditions from the start.\n",
    "3. Try to change xylose with another carbon source, can you add a refreshment $\\epsilon$ to this carbon source?\n",
    "    $$\n",
    "    \\frac{dC_j}{dt} = v_{j}X + \\epsilon\n",
    "    $$"
   ]
  },
  {
   "cell_type": "code",
   "execution_count": null,
   "metadata": {},
   "outputs": [],
   "source": [
    "dfba_model = DfbaModel(fba_model)\n",
    "# YOUR CODE..."
   ]
  }
 ],
 "metadata": {
  "kernelspec": {
   "display_name": "Python 3",
   "language": "python",
   "name": "python3"
  },
  "language_info": {
   "codemirror_mode": {
    "name": "ipython",
    "version": 3
   },
   "file_extension": ".py",
   "mimetype": "text/x-python",
   "name": "python",
   "nbconvert_exporter": "python",
   "pygments_lexer": "ipython3",
   "version": "3.6.9"
  }
 },
 "nbformat": 4,
 "nbformat_minor": 4
}
