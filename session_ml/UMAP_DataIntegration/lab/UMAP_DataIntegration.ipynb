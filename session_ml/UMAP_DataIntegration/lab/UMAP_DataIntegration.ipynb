{
 "cells": [
  {
   "cell_type": "markdown",
   "metadata": {},
   "source": [
    "### UMAP for Data Integration\n",
    "\n",
    "Here we will overlap graphs from single cell RNAseq and Proteomics data sets from the CITE-seq technology, and produce a consensus / integrative OMICs UMAP plot. The idea is to convert the two data types into graphs, i.e. non-parametric space where they forget their technological differences, and overlap the graphs. The resulting graph will be used for constructing the UMAP embeddings."
   ]
  },
  {
   "cell_type": "code",
   "execution_count": null,
   "metadata": {},
   "outputs": [],
   "source": [
    "from IPython.display import Image\n",
    "Image('assests/UMAP_DataIntegration.png', width=2000)"
   ]
  },
  {
   "cell_type": "markdown",
   "metadata": {},
   "source": [
    "We will start with reading and log-transforming the OMICs data."
   ]
  },
  {
   "cell_type": "code",
   "execution_count": null,
   "metadata": {},
   "outputs": [],
   "source": [
    "import os\n",
    "import numpy as np\n",
    "import pandas as pd\n",
    "from tensorflow.keras.models import Model\n",
    "import matplotlib.pyplot as plt\n",
    "from sklearn.manifold import TSNE\n",
    "from tensorflow.keras.utils import plot_model\n",
    "from tensorflow.keras.layers import Input, Dense\n",
    "from tensorflow.keras.layers import concatenate\n",
    "\n",
    "import warnings\n",
    "warnings.filterwarnings(\"ignore\")\n",
    "\n",
    "scRNAseq = pd.read_csv('data/scRNAseq.txt', sep='\\t')\n",
    "scProteomics = pd.read_csv('data/scProteomics.txt', sep='\\t')\n",
    "\n",
    "X_scRNAseq = scRNAseq.values[:, 0:(scRNAseq.shape[1]-1)]\n",
    "Y_scRNAseq = scRNAseq.values[:, scRNAseq.shape[1]-1]\n",
    "X_scProteomics = scProteomics.values[:, 0:(scProteomics.shape[1]-1)]\n",
    "Y_scProteomics = scProteomics.values[:, scProteomics.shape[1]-1]\n",
    "\n",
    "X_scRNAseq = np.log(X_scRNAseq + 1)\n",
    "X_scProteomics = np.log(X_scProteomics + 1)"
   ]
  },
  {
   "cell_type": "code",
   "execution_count": null,
   "metadata": {},
   "outputs": [],
   "source": [
    "X_scRNAseq.shape"
   ]
  },
  {
   "cell_type": "code",
   "execution_count": null,
   "metadata": {},
   "outputs": [],
   "source": [
    "X_scProteomics.shape"
   ]
  },
  {
   "cell_type": "markdown",
   "metadata": {},
   "source": [
    "Let us display the UMAP embeddings of individual OMICs data sets. We will start with the scRNAseq dataset. As an optimal number of nearest neighbors we will choose sqrt(N) = sqrt(8617) = 93."
   ]
  },
  {
   "cell_type": "code",
   "execution_count": null,
   "metadata": {},
   "outputs": [],
   "source": [
    "from umap import UMAP\n",
    "from sklearn.decomposition import PCA\n",
    "\n",
    "X_reduced = PCA(n_components = 20).fit_transform(X_scRNAseq)\n",
    "model = UMAP(n_components = 2, min_dist = 1, n_neighbors = 93, init = X_reduced[:, 0:2], n_epochs = 1000, \n",
    "             verbose = 2)\n",
    "umap = model.fit_transform(X_reduced)\n",
    "\n",
    "plt.figure(figsize = (20,15))\n",
    "plt.scatter(umap[:, 0], umap[:, 1], c = Y_scRNAseq, cmap = 'tab20', s = 20)\n",
    "plt.title('UMAP: scRNAseq', fontsize = 25); \n",
    "plt.xlabel(\"UMAP1\", fontsize = 22); plt.ylabel(\"UMAP2\", fontsize = 22)\n",
    "plt.show()"
   ]
  },
  {
   "cell_type": "markdown",
   "metadata": {},
   "source": [
    "Now let us display UMAP embeddings for the scProteomics dataset of the CITE-seq sequencing technology."
   ]
  },
  {
   "cell_type": "code",
   "execution_count": null,
   "metadata": {},
   "outputs": [],
   "source": [
    "X_reduced = PCA(n_components = 10).fit_transform(X_scProteomics)\n",
    "model = UMAP(n_components = 2, min_dist = 0.8, n_neighbors = 93, init = X_reduced[:, 0:2], n_epochs = 1000, \n",
    "             verbose = 2)\n",
    "umap = model.fit_transform(X_reduced)\n",
    "\n",
    "plt.figure(figsize = (20,15))\n",
    "plt.scatter(umap[:, 0], umap[:, 1], c = Y_scProteomics, cmap = 'tab20', s = 20)\n",
    "plt.title('UMAP: scProteomics', fontsize = 25); \n",
    "plt.xlabel(\"UMAP1\", fontsize = 22); plt.ylabel(\"UMAP2\", fontsize = 22)\n",
    "plt.show()"
   ]
  },
  {
   "cell_type": "markdown",
   "metadata": {},
   "source": [
    "Now we will construct the intersection of the two graphs / simplicial sets, and visualize the resulting embeddings."
   ]
  },
  {
   "cell_type": "code",
   "execution_count": null,
   "metadata": {},
   "outputs": [],
   "source": [
    "import umap\n",
    "\n",
    "X_reduced_scRNAseq = PCA(n_components = 20).fit_transform(X_scRNAseq)\n",
    "X_reduced_scProteomics = PCA(n_components = 10).fit_transform(X_scProteomics)\n",
    "\n",
    "fit1 = umap.UMAP(n_components = 2, min_dist = 1, n_neighbors = 93, n_epochs = 1000, \n",
    "                 init = X_reduced_scRNAseq[:, 0:2], verbose = 2).fit(X_reduced_scRNAseq)\n",
    "fit2 = umap.UMAP(n_components = 2, min_dist = 0.8, n_neighbors = 93, n_epochs = 1000, \n",
    "                 init = X_reduced_scProteomics[:, 0:2], verbose = 2).fit(X_reduced_scProteomics)\n",
    "intersection = umap.umap_. general_simplicial_set_intersection(fit1.graph_, fit2.graph_, weight = 0.45)\n",
    "intersection = umap.umap_.reset_local_connectivity(intersection)\n",
    "embedding = umap.umap_.simplicial_set_embedding(fit1._raw_data, intersection, fit1.n_components, \n",
    "                                                fit1.learning_rate, fit1._a, fit1._b, \n",
    "                                                fit1.repulsion_strength, fit1.negative_sample_rate, \n",
    "                                                1000, 'random', np.random, fit1.metric, \n",
    "                                                fit1._metric_kwds, False, densmap_kwds=False, output_dens=False)"
   ]
  },
  {
   "cell_type": "code",
   "execution_count": null,
   "metadata": {},
   "outputs": [],
   "source": [
    "plt.figure(figsize = (20,15))\n",
    "plt.scatter(embedding[0][:, 0], embedding[0][:, 1], c = Y_scRNAseq, cmap = 'tab20', s = 20)\n",
    "plt.title('UMAP: scRNAseq + scProteomics', fontsize = 25); \n",
    "plt.xlabel(\"UMAP1\", fontsize = 22); plt.ylabel(\"UMAP2\", fontsize = 22)\n",
    "plt.show()"
   ]
  }
 ],
 "metadata": {
  "hide_input": false,
  "kernelspec": {
   "display_name": "Python 3 (ipykernel)",
   "language": "python",
   "name": "python3"
  },
  "language_info": {
   "codemirror_mode": {
    "name": "ipython",
    "version": 3
   },
   "file_extension": ".py",
   "mimetype": "text/x-python",
   "name": "python",
   "nbconvert_exporter": "python",
   "pygments_lexer": "ipython3",
   "version": "3.12.5"
  }
 },
 "nbformat": 4,
 "nbformat_minor": 4
}
