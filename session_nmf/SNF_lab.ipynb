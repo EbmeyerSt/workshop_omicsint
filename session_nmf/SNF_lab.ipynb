{
 "cells": [
  {
   "cell_type": "markdown",
   "metadata": {},
   "source": [
    "# SNF lab\n",
    "\n",
    "### Task (45 minutes) \n",
    "\n",
    "Data: MOFA's CLL dataset\n",
    "\n",
    "1. Load and prepare data, then compute the affinity matrices and perform SNF.\n",
    "2. Assume that there are two cancer subtypes and cluster them :)\n",
    "3. Plot the fused network and the clusters using networkx, or Gephi, or igraph, whatever else you prefer.\n",
    "\n",
    "Optional:\n",
    "- Compare clusters to NMF\n",
    "- Use the other omics tables as well\n",
    "- Compare with the results from the MOFA analysis\n",
    "https://bioconductor.riken.jp/packages/3.9/bioc/vignettes/MOFA/inst/doc/MOFA_example_CLL.html\n",
    "\n",
    "Questions:\n",
    "\n",
    "\n",
    "Code:\n",
    "- Lab example uses a SNF implementation in Python:\n",
    "    - https://github.com/rmarkello/snfpy#usage\n",
    "    - https://snfpy.readthedocs.io/en/latest/usage.html\n",
    "- For R, feel free to use this package:\n",
    "    - https://cran.r-project.org/web/packages/NMF/index.html"
   ]
  },
  {
   "cell_type": "code",
   "execution_count": 2,
   "metadata": {},
   "outputs": [
    {
     "data": {
      "text/plain": [
       "['data', 'labels']"
      ]
     },
     "execution_count": 2,
     "metadata": {},
     "output_type": "execute_result"
    }
   ],
   "source": [
    "from snf import datasets\n",
    "simdata = datasets.load_simdata()\n",
    "sorted(simdata.keys())"
   ]
  },
  {
   "cell_type": "code",
   "execution_count": 3,
   "metadata": {},
   "outputs": [
    {
     "name": "stdout",
     "output_type": "stream",
     "text": [
      "Simdata has 2 datatypes with 200 samples each.\n"
     ]
    }
   ],
   "source": [
    "n_dtypes = len(simdata.data)\n",
    "n_samp = len(simdata.labels)\n",
    "print('Simdata has {} datatypes with {} samples each.'.format(n_dtypes, n_samp))"
   ]
  },
  {
   "cell_type": "code",
   "execution_count": 10,
   "metadata": {},
   "outputs": [
    {
     "data": {
      "text/plain": [
       "(200, 2)"
      ]
     },
     "execution_count": 10,
     "metadata": {},
     "output_type": "execute_result"
    }
   ],
   "source": [
    "simdata.data[0].shape"
   ]
  },
  {
   "cell_type": "code",
   "execution_count": 11,
   "metadata": {},
   "outputs": [
    {
     "name": "stdout",
     "output_type": "stream",
     "text": [
      "(13496, 135)\n"
     ]
    }
   ],
   "source": [
    "data_loc = \"./data/\"\n",
    "import pandas as pd\n",
    "df_meth = pd.read_csv(data_loc + \"CLL_data_Methylation.csv\", index_col=0)\n",
    "df_mrna = pd.read_csv(data_loc + \"CLL_data_mRNA.csv\", index_col=0)\n",
    "\n",
    "# drop nans by column\n",
    "df_mrna = df_mrna.dropna(axis='columns')\n",
    "df_meth = df_meth.dropna(axis='columns')\n",
    "\n",
    "df_mrna = df_mrna.T\n",
    "df_meth = df_meth.T\n",
    "\n",
    "for c in df_meth.columns:\n",
    "    mask = df_meth[c] < 0\n",
    "    df_meth[c + '_n'] = df_meth[c].mask(mask)\n",
    "    df_meth[c + '_p'] = - df_meth[c].mask(~mask)\n",
    "    df_meth = df_meth.drop([c], axis=1)\n",
    "df_meth = df_meth.fillna(0)\n",
    "\n",
    "X = pd.concat([df_mrna.T, df_meth.T])\n",
    "X = X.dropna(axis='columns')\n",
    "print(X.shape)"
   ]
  },
  {
   "cell_type": "code",
   "execution_count": 14,
   "metadata": {},
   "outputs": [
    {
     "data": {
      "text/plain": [
       "(5000, 136)"
      ]
     },
     "execution_count": 14,
     "metadata": {},
     "output_type": "execute_result"
    }
   ],
   "source": [
    "df_mrna.T.shape[0]"
   ]
  },
  {
   "cell_type": "code",
   "execution_count": 29,
   "metadata": {},
   "outputs": [],
   "source": [
    "X1 = X.iloc[5000:, :].T\n",
    "X2 = X.iloc[:5000, :].T"
   ]
  },
  {
   "cell_type": "code",
   "execution_count": 30,
   "metadata": {},
   "outputs": [
    {
     "name": "stdout",
     "output_type": "stream",
     "text": [
      "(135, 8496) (135, 5000)\n"
     ]
    }
   ],
   "source": [
    "print(X1.values.shape, X2.values.shape)"
   ]
  },
  {
   "cell_type": "code",
   "execution_count": 31,
   "metadata": {},
   "outputs": [],
   "source": [
    "from snf import compute\n",
    "affinities = compute.make_affinity([X1.values, X2.values], metric='euclidean', K=20, mu=0.5)"
   ]
  },
  {
   "cell_type": "code",
   "execution_count": 34,
   "metadata": {},
   "outputs": [
    {
     "data": {
      "text/plain": [
       "(135, 135)"
      ]
     },
     "execution_count": 34,
     "metadata": {},
     "output_type": "execute_result"
    }
   ],
   "source": [
    "affinities[0].shape"
   ]
  },
  {
   "cell_type": "code",
   "execution_count": 35,
   "metadata": {},
   "outputs": [
    {
     "data": {
      "text/plain": [
       "(2, 4)"
      ]
     },
     "execution_count": 35,
     "metadata": {},
     "output_type": "execute_result"
    }
   ],
   "source": [
    "fused = compute.snf(affinities, K=20)\n",
    "first, second = compute.get_n_clusters(fused)\n",
    "first, second"
   ]
  },
  {
   "cell_type": "code",
   "execution_count": 40,
   "metadata": {},
   "outputs": [],
   "source": [
    "import numpy as np\n",
    "all_labels = np.array([1 for i in range(135)] + [2 for i in range(135)])"
   ]
  },
  {
   "cell_type": "code",
   "execution_count": 45,
   "metadata": {},
   "outputs": [],
   "source": [
    "from sklearn import cluster\n",
    "fused_labels = cluster.spectral_clustering(fused, n_clusters=first)\n",
    "#labels = [all_labels, fused_labels]\n",
    "labels = [fused_labels]\n",
    "for arr in affinities:\n",
    "    labels += [cluster.spectral_clustering(arr, n_clusters=first)]"
   ]
  },
  {
   "cell_type": "code",
   "execution_count": 46,
   "metadata": {},
   "outputs": [
    {
     "data": {
      "text/plain": [
       "array([0, 0, 1, 1, 0, 0, 1, 0, 1, 1, 1, 1, 1, 1, 1, 0, 1, 0, 0, 1, 1, 0,\n",
       "       1, 0, 0, 0, 1, 1, 0, 0, 0, 1, 0, 1, 1, 1, 0, 1, 1, 1, 1, 1, 1, 0,\n",
       "       1, 0, 0, 0, 1, 0, 0, 1, 0, 1, 0, 0, 0, 1, 1, 0, 0, 1, 0, 0, 0, 1,\n",
       "       0, 1, 1, 0, 0, 1, 1, 0, 1, 0, 1, 0, 1, 0, 0, 1, 0, 0, 0, 0, 1, 1,\n",
       "       1, 0, 0, 1, 1, 1, 1, 1, 1, 0, 0, 1, 0, 0, 1, 1, 0, 0, 1, 1, 0, 0,\n",
       "       0, 0, 1, 1, 0, 1, 0, 0, 1, 0, 0, 0, 1, 0, 0, 1, 1, 0, 0, 0, 1, 0,\n",
       "       1, 1, 0], dtype=int32)"
      ]
     },
     "execution_count": 46,
     "metadata": {},
     "output_type": "execute_result"
    }
   ],
   "source": [
    "fused_labels"
   ]
  },
  {
   "cell_type": "code",
   "execution_count": 47,
   "metadata": {},
   "outputs": [
    {
     "data": {
      "text/plain": [
       "[array([0, 0, 1, 1, 0, 0, 1, 0, 1, 1, 1, 1, 1, 1, 1, 0, 1, 0, 0, 1, 1, 0,\n",
       "        1, 0, 0, 0, 1, 1, 0, 0, 0, 1, 0, 1, 1, 1, 0, 1, 1, 1, 1, 1, 1, 0,\n",
       "        1, 0, 0, 0, 1, 0, 0, 1, 0, 1, 0, 0, 0, 1, 1, 0, 0, 1, 0, 0, 0, 1,\n",
       "        0, 1, 1, 0, 0, 1, 1, 0, 1, 0, 1, 0, 1, 0, 0, 1, 0, 0, 0, 0, 1, 1,\n",
       "        1, 0, 0, 1, 1, 1, 1, 1, 1, 0, 0, 1, 0, 0, 1, 1, 0, 0, 1, 1, 0, 0,\n",
       "        0, 0, 1, 1, 0, 1, 0, 0, 1, 0, 0, 0, 1, 0, 0, 1, 1, 0, 0, 0, 1, 0,\n",
       "        1, 1, 0], dtype=int32),\n",
       " array([0, 0, 1, 1, 0, 0, 1, 0, 1, 1, 1, 1, 1, 1, 1, 0, 1, 0, 0, 1, 1, 0,\n",
       "        1, 0, 0, 0, 1, 1, 1, 0, 0, 1, 1, 1, 1, 1, 0, 1, 1, 1, 1, 1, 1, 1,\n",
       "        1, 0, 0, 0, 1, 0, 0, 1, 0, 1, 0, 0, 0, 1, 1, 0, 0, 1, 1, 0, 0, 1,\n",
       "        1, 1, 1, 0, 1, 1, 1, 0, 1, 0, 1, 0, 1, 0, 0, 1, 0, 0, 0, 1, 1, 1,\n",
       "        1, 0, 1, 1, 1, 1, 1, 1, 1, 0, 0, 1, 0, 0, 1, 1, 0, 0, 1, 1, 0, 1,\n",
       "        0, 0, 1, 1, 0, 1, 0, 0, 1, 0, 0, 0, 1, 0, 0, 1, 1, 0, 0, 1, 1, 0,\n",
       "        1, 1, 0], dtype=int32),\n",
       " array([0, 0, 1, 1, 0, 0, 0, 0, 0, 0, 0, 0, 0, 0, 0, 1, 0, 0, 0, 0, 0, 0,\n",
       "        0, 0, 0, 0, 0, 0, 0, 0, 0, 0, 0, 1, 0, 0, 0, 1, 0, 0, 0, 0, 0, 0,\n",
       "        0, 0, 0, 1, 0, 1, 0, 0, 1, 1, 1, 0, 1, 0, 0, 1, 1, 1, 1, 1, 0, 1,\n",
       "        1, 1, 1, 0, 1, 0, 0, 0, 1, 0, 0, 1, 0, 0, 1, 1, 1, 1, 0, 1, 0, 1,\n",
       "        0, 1, 1, 1, 0, 0, 0, 0, 1, 0, 1, 1, 1, 0, 0, 0, 0, 0, 0, 0, 0, 0,\n",
       "        0, 1, 0, 0, 0, 0, 0, 0, 1, 0, 0, 1, 0, 0, 0, 0, 0, 1, 0, 0, 0, 0,\n",
       "        0, 0, 1], dtype=int32)]"
      ]
     },
     "execution_count": 47,
     "metadata": {},
     "output_type": "execute_result"
    }
   ],
   "source": [
    "labels"
   ]
  },
  {
   "cell_type": "code",
   "execution_count": 48,
   "metadata": {},
   "outputs": [
    {
     "name": "stdout",
     "output_type": "stream",
     "text": [
      "[[1.         0.68746257 0.01308389]\n",
      " [0.68746257 1.         0.00350462]\n",
      " [0.01308389 0.00350462 1.        ]]\n"
     ]
    }
   ],
   "source": [
    "from snf import metrics\n",
    "nmi = metrics.nmi(labels)\n",
    "print(nmi)"
   ]
  },
  {
   "cell_type": "code",
   "execution_count": 50,
   "metadata": {},
   "outputs": [
    {
     "name": "stdout",
     "output_type": "stream",
     "text": [
      "Silhouette score for the fused matrix is: 0.24\n"
     ]
    }
   ],
   "source": [
    "import numpy as np\n",
    "np.fill_diagonal(fused, 0)\n",
    "sil = metrics.silhouette_score(fused, fused_labels)\n",
    "print('Silhouette score for the fused matrix is: {:.2f}'.format(sil))"
   ]
  },
  {
   "cell_type": "raw",
   "metadata": {},
   "source": []
  }
 ],
 "metadata": {
  "hide_input": false,
  "kernelspec": {
   "display_name": "Python 3",
   "language": "python",
   "name": "python3"
  },
  "language_info": {
   "codemirror_mode": {
    "name": "ipython",
    "version": 3
   },
   "file_extension": ".py",
   "mimetype": "text/x-python",
   "name": "python",
   "nbconvert_exporter": "python",
   "pygments_lexer": "ipython3",
   "version": "3.9.4"
  }
 },
 "nbformat": 4,
 "nbformat_minor": 5
}
