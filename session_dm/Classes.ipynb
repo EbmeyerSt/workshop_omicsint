{
 "cells": [
  {
   "cell_type": "markdown",
   "metadata": {
    "slideshow": {
     "slide_type": "slide"
    }
   },
   "source": [
    "# Python classes"
   ]
  },
  {
   "cell_type": "markdown",
   "metadata": {
    "slideshow": {
     "slide_type": "fragment"
    }
   },
   "source": [
    "Object-oriented programming relies on **classes** and **objects**\n",
    "\n",
    "Classes serve as blueprints to build objects\n",
    "\n",
    "Classes may have methods and attributes\n",
    "\n",
    "**Attributes** are locked on an object, using the dot syntax: `obj.attribute`.\n",
    "\n",
    "**Methods** are functions stored in a class that change an object.  "
   ]
  },
  {
   "cell_type": "markdown",
   "metadata": {
    "slideshow": {
     "slide_type": "slide"
    }
   },
   "source": [
    "# Building a class"
   ]
  },
  {
   "cell_type": "code",
   "execution_count": 2,
   "metadata": {
    "slideshow": {
     "slide_type": "fragment"
    }
   },
   "outputs": [],
   "source": [
    "class OmicsCourse:\n",
    "    \"\"\"\n",
    "    This is the documentation for a class.\n",
    "    \"\"\"\n",
    "    \n",
    "    def __init__(self, metadata, clinical):   #required by all classes.\n",
    "        print('Class OmicsCourse started.')\n",
    "        self.metadata=metadata                #self refers to the own object\n",
    "        self.clinical=clinical                #adds attribute to the class\n",
    "    \n",
    "    def summarize(self, folder):                #methods modify the object\n",
    "        self.folder=folder\n",
    "        print('Metadata is: '+self.metadata+' . Clinical is: '+self.clinical+' found in '+self.folder)"
   ]
  },
  {
   "cell_type": "code",
   "execution_count": 3,
   "metadata": {
    "slideshow": {
     "slide_type": "subslide"
    }
   },
   "outputs": [
    {
     "name": "stdout",
     "output_type": "stream",
     "text": [
      "Class OmicsCourse started.\n"
     ]
    }
   ],
   "source": [
    "obj=OmicsCourse('metadata.tsv','clinical.tsv') #initialize class"
   ]
  },
  {
   "cell_type": "code",
   "execution_count": 41,
   "metadata": {
    "slideshow": {
     "slide_type": "fragment"
    }
   },
   "outputs": [
    {
     "data": {
      "text/plain": [
       "'metadata.tsv'"
      ]
     },
     "execution_count": 41,
     "metadata": {},
     "output_type": "execute_result"
    }
   ],
   "source": [
    "obj.metadata"
   ]
  },
  {
   "cell_type": "code",
   "execution_count": 42,
   "metadata": {
    "slideshow": {
     "slide_type": "fragment"
    }
   },
   "outputs": [
    {
     "name": "stdout",
     "output_type": "stream",
     "text": [
      "Metadata is: metadata.tsv . Clinical is: clinical.tsv found in path/to/dir/\n"
     ]
    }
   ],
   "source": [
    "obj.summarize('path/to/dir/')"
   ]
  },
  {
   "cell_type": "code",
   "execution_count": 43,
   "metadata": {
    "slideshow": {
     "slide_type": "fragment"
    }
   },
   "outputs": [
    {
     "data": {
      "text/plain": [
       "'path/to/dir/'"
      ]
     },
     "execution_count": 43,
     "metadata": {},
     "output_type": "execute_result"
    }
   ],
   "source": [
    "obj.folder"
   ]
  }
 ],
 "metadata": {
  "celltoolbar": "Slideshow",
  "hide_input": false,
  "kernelspec": {
   "display_name": "Python 3",
   "language": "python",
   "name": "python3"
  },
  "language_info": {
   "codemirror_mode": {
    "name": "ipython",
    "version": 2
   },
   "file_extension": ".py",
   "mimetype": "text/x-python",
   "name": "python",
   "nbconvert_exporter": "python",
   "pygments_lexer": "ipython2",
   "version": "2.7.16"
  }
 },
 "nbformat": 4,
 "nbformat_minor": 2
}
