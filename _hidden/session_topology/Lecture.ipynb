{
 "cells": [
  {
   "cell_type": "markdown",
   "metadata": {},
   "source": [
    "# Network terms"
   ]
  },
  {
   "cell_type": "code",
   "execution_count": null,
   "metadata": {},
   "outputs": [],
   "source": [
    "import igraph as "
   ]
  },
  {
   "cell_type": "markdown",
   "metadata": {},
   "source": [
    "## Suggested reading\n",
    "\n"
   ]
  },
  {
   "cell_type": "markdown",
   "metadata": {
    "slideshow": {
     "slide_type": "fragment"
    }
   },
   "source": [
    "http://web.stanford.edu/class/cs224w/\n",
    "\n",
    "https://www.ebi.ac.uk/training/online/course/network-analysis-protein-interaction-data-introduction\n",
    "\n",
    "https://www.ncbi.nlm.nih.gov/pmc/articles/PMC3101653/"
   ]
  },
  {
   "cell_type": "markdown",
   "metadata": {},
   "source": [
    "- From GEMs to Other Analyses\n",
    "    - Example cases:\n",
    "        https://www.ncbi.nlm.nih.gov/pmc/articles/PMC5568837/\n",
    "        \n",
    "- Pathway-level analyses\n",
    "- Intro to Network Topology\n",
    "    - Social Networks\n",
    "    - 6-degrees of sepparation\n",
    "- General Topology Considerations\n",
    "    - Nomenclature\n",
    "        - Graph\n",
    "        - Edges\n",
    "        - Nodes\n",
    "        - Components\n",
    "        - Directionality\n",
    "- Centrality\n",
    "    - Centrality measures\n",
    "- Generating graphs\n",
    "    - PPI\n",
    "    - Co-expression networks\n",
    "    - Association networks\n",
    "    - From GEMs\n",
    "    - TFRN\n",
    "    - WGCNA\n",
    "    - CCA\n",
    "- Community\n",
    "    - Definition\n",
    "    - Detection methods\n",
    "- Functional analysis\n",
    "    - Hypergeometric testing\n",
    "    - PIANO\n",
    "    - DAVID\n",
    "    - Enrichr\n",
    "    - Custom .gmt\n",
    "        - Challenge in finding pathway associations\n",
    "        - Gene/protein level many resources\n",
    "            - GSEA\n",
    "            - Enrichr\n",
    "        - Metabolite\n",
    "            - Problem in identifiers\n",
    "            - Reactome\n",
    "- Visualization\n",
    "    - Correlation plots\n",
    "    - Cytoscape"
   ]
  },
  {
   "cell_type": "markdown",
   "metadata": {},
   "source": [
    "# Reference cells\n",
    "\n",
    "For exporting"
   ]
  },
  {
   "cell_type": "code",
   "execution_count": 4,
   "metadata": {
    "slideshow": {
     "slide_type": "skip"
    }
   },
   "outputs": [],
   "source": [
    "# @hidden_cell\n",
    "\n",
    "import sys, os, re, warnings, inspect\n",
    "import pandas as pd\n",
    "import numpy as np\n",
    "import seaborn as sns\n",
    "import matplotlib.pyplot as plt\n",
    "\n",
    "cwd=os.path.dirname(os.path.abspath(inspect.getframeinfo(inspect.currentframe()).filename))\n",
    "data=cwd+'/data'\n",
    "img=cwd+'/img'"
   ]
  },
  {
   "cell_type": "code",
   "execution_count": 7,
   "metadata": {},
   "outputs": [],
   "source": []
  },
  {
   "cell_type": "code",
   "execution_count": 2,
   "metadata": {},
   "outputs": [
    {
     "data": {
      "text/plain": [
       "'/Users/rui.benfeitas/.jupyter'"
      ]
     },
     "execution_count": 2,
     "metadata": {},
     "output_type": "execute_result"
    }
   ],
   "source": [
    "jupyter_core.paths.jupyter_config_dir()  "
   ]
  },
  {
   "cell_type": "markdown",
   "metadata": {},
   "source": [
    "## CSS"
   ]
  },
  {
   "cell_type": "code",
   "execution_count": 1,
   "metadata": {},
   "outputs": [],
   "source": [
    "path='/Users/rui.benfeitas/OneDrive/WORK/GitHub/workshop_omics_integration/'\n",
    "custom=path+'/topology-env/lib/python3.7/site-packages/notebook/static/custom/'\n",
    "\n",
    "text=\"\"\"\n",
    "/* Images side by side */\n",
    "/* Image containers (use 33% for 3 columns, 25% for four, and 50% for two, etc) */\n",
    ".column3 {\n",
    "  float: left;\n",
    "  width: 33.33%;\n",
    "  padding: 5px;\n",
    "}\n",
    "\n",
    ".column2 {\n",
    "  float: left;\n",
    "  width: 50%;\n",
    "  padding: 5px;\n",
    "}\n",
    ".column4{\n",
    "    float:left;\n",
    "    width: 25%;\n",
    "    padding: 5px;\n",
    "}\n",
    "\n",
    "\n",
    "/* Clear floats after image containers */\n",
    ".row::after {\n",
    "  content: \"\";\n",
    "  clear: both;\n",
    "  display: table;\n",
    "} \n",
    "\n",
    "/* Center image */\n",
    ".center {\n",
    "  display: block;\n",
    "  margin-left: auto;\n",
    "  margin-right: auto;\n",
    "}\n",
    "\n",
    ".container {\n",
    "  position: relative;\n",
    "}\n",
    "\n",
    ".footer {\n",
    "  position: absolute;\n",
    "  bottom: 8px;\n",
    "  right: 16px;\n",
    "  font-size: .8em;\n",
    "}\n",
    "\"\"\"\n"
   ]
  },
  {
   "cell_type": "code",
   "execution_count": 2,
   "metadata": {},
   "outputs": [],
   "source": [
    "with open(custom+'custom.css', \"w\") as f:\n",
    "    f.write(text)"
   ]
  },
  {
   "cell_type": "code",
   "execution_count": null,
   "metadata": {},
   "outputs": [],
   "source": []
  },
  {
   "cell_type": "code",
   "execution_count": 1,
   "metadata": {},
   "outputs": [
    {
     "name": "stdout",
     "output_type": "stream",
     "text": [
      "\r\n",
      "/* Images side by side */\r\n",
      "/* Image containers (use 33% for 3 columns, 25% for four, and 50% for two, etc) */\r\n",
      ".column3 {\r\n",
      "  float: left;\r\n",
      "  width: 33.33%;\r\n",
      "  padding: 5px;\r\n",
      "}\r\n",
      "\r\n",
      ".column2 {\r\n",
      "  float: left;\r\n",
      "  width: 50%;\r\n",
      "  padding: 5px;\r\n",
      "}\r\n",
      ".column4{\r\n",
      "    float:left;\r\n",
      "    width: 25%;\r\n",
      "    padding: 5px;\r\n",
      "}\r\n",
      "\r\n",
      "\r\n",
      "/* Clear floats after image containers */\r\n",
      ".row::after {\r\n",
      "  content: \"\";\r\n",
      "  clear: both;\r\n",
      "  display: table;\r\n",
      "} \r\n",
      "\r\n",
      "/* Center image */\r\n",
      ".center {\r\n",
      "  display: block;\r\n",
      "  margin-left: auto;\r\n",
      "  margin-right: auto;\r\n",
      "}\r\n",
      "\r\n",
      ".container {\r\n",
      "  position: relative;\r\n",
      "}\r\n",
      "\r\n",
      ".footer {\r\n",
      "  position: absolute;\r\n",
      "  bottom: 8px;\r\n",
      "  right: 16px;\r\n",
      "  font-size: .8em;\r\n",
      "}\r\n"
     ]
    }
   ],
   "source": [
    "!cat /Users/rui.benfeitas/OneDrive/WORK/GitHub/workshop_omics_integration/topology-env/lib/python3.7/site-packages/notebook/static/custom/custom.css"
   ]
  },
  {
   "cell_type": "code",
   "execution_count": null,
   "metadata": {},
   "outputs": [],
   "source": []
  },
  {
   "cell_type": "code",
   "execution_count": null,
   "metadata": {},
   "outputs": [],
   "source": [
    "#2\n",
    "<div class=\"row\">\n",
    "  <div class=\"column2\">\n",
    "    <img src=\"img/\">\n",
    "  </div>\n",
    "  <div class=\"column2\">\n",
    "    <img src=\"img/\">\n",
    "  </div>\n",
    "  <div class=\"column2\">\n",
    "    <img src=\"img/\">\n",
    "  </div>\n",
    "</div> \n",
    "\n",
    "#3\n",
    "<div class=\"row\">\n",
    "  <div class=\"column3\">\n",
    "    <img src=\"img/\">\n",
    "  </div>\n",
    "  <div class=\"column3\">\n",
    "    <img src=\"img/\">\n",
    "  </div>\n",
    "  <div class=\"column3\">\n",
    "    <img src=\"img/\">\n",
    "  </div>\n",
    "</div> \n",
    "\n",
    "#4\n",
    "<div class=\"row\">\n",
    "    <div class=\"column4\">\n",
    "        <a href=\"\"><img src=\"img/\"></a>\n",
    "    </div>\n",
    "    <div class=\"column4\">\n",
    "        <a href=\"\"><img src=\"img/\"></a>\n",
    "    </div>\n",
    "    <div class=\"column4\">\n",
    "        <a href=\"\"><img src=\"img/\"></a>\n",
    "    </div>\n",
    "    <div class=\"column4\">\n",
    "        <a href=\"\"><img src=\"img/\"></a>\n",
    "    </div>\n",
    "</div>"
   ]
  },
  {
   "cell_type": "markdown",
   "metadata": {
    "slideshow": {
     "slide_type": "notes"
    }
   },
   "source": [
    "https://notepad.mmakowski.com/Tech/Creating%20slide%20decks%20in%20Jupyter%20notebook"
   ]
  },
  {
   "cell_type": "code",
   "execution_count": null,
   "metadata": {
    "slideshow": {
     "slide_type": "notes"
    }
   },
   "outputs": [],
   "source": [
    "# @hidden_cell\n",
    "\n",
    "!jupyter nbconvert Lecture.ipynb --to slides --post serve --SlidesExporter.reveal_theme=serif  --SlidesExporter.reveal_scroll=True --SlidesExporter.reveal_transition=none"
   ]
  }
 ],
 "metadata": {
  "celltoolbar": "Slideshow",
  "hide_input": false,
  "kernelspec": {
   "display_name": "Python 3",
   "language": "python",
   "name": "python3"
  },
  "language_info": {
   "codemirror_mode": {
    "name": "ipython",
    "version": 3
   },
   "file_extension": ".py",
   "mimetype": "text/x-python",
   "name": "python",
   "nbconvert_exporter": "python",
   "pygments_lexer": "ipython3",
   "version": "3.7.4"
  },
  "toc": {
   "base_numbering": 1,
   "nav_menu": {},
   "number_sections": true,
   "sideBar": true,
   "skip_h1_title": false,
   "title_cell": "Table of Contents",
   "title_sidebar": "Contents",
   "toc_cell": false,
   "toc_position": {},
   "toc_section_display": true,
   "toc_window_display": false
  }
 },
 "nbformat": 4,
 "nbformat_minor": 2
}
